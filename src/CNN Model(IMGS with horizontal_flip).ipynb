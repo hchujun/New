{
 "cells": [
  {
   "cell_type": "code",
   "execution_count": 1,
   "id": "6ca013a7",
   "metadata": {},
   "outputs": [],
   "source": [
    "import os, shutil\n",
    "\n",
    "base_dir = 'imgs'\n",
    "\n",
    "# 分别对应训练、验证和测试目录\n",
    "train_dir = os.path.join(base_dir, 'train')\n",
    "validation_dir = os.path.join(base_dir, 'valid')\n",
    "test_dir = os.path.join(base_dir, 'test')\n",
    "\n",
    "# ===============================================\n",
    "train_arc_dir = os.path.join(train_dir, 'arc')\n",
    "train_ctj_dir = os.path.join(train_dir, 'ctj')\n",
    "train_lky_dir = os.path.join(train_dir, 'lky')\n",
    "\n",
    "validation_arc_dir = os.path.join(validation_dir, 'arc')\n",
    "validation_ctj_dir = os.path.join(validation_dir, 'ctj')\n",
    "validation_lky_dir = os.path.join(validation_dir, 'lky')\n",
    "\n",
    "test_arc_dir = os.path.join(test_dir, 'arc')\n",
    "test_ctj_dir = os.path.join(test_dir, 'ctj')\n",
    "test_lky_dir = os.path.join(test_dir, 'lky')"
   ]
  },
  {
   "cell_type": "code",
   "execution_count": 2,
   "id": "b09afdc7",
   "metadata": {},
   "outputs": [
    {
     "name": "stdout",
     "output_type": "stream",
     "text": [
      "Image array shape: (57, 250, 3)\n"
     ]
    }
   ],
   "source": [
    "# 检查每个图像数组的形状\n",
    "\n",
    "import PIL.Image as Image\n",
    "import numpy as np\n",
    "import pandas as pd\n",
    "import matplotlib.pyplot as plt\n",
    "import os\n",
    "from scipy.io import loadmat\n",
    "\n",
    "tmp_path = validation_arc_dir + '/478.jpg'\n",
    "tmp_img = Image.open(tmp_path)\n",
    "#tmp_img.show()\n",
    "tmp_img_array = np.array(tmp_img)\n",
    "print('Image array shape:', tmp_img_array.shape)"
   ]
  },
  {
   "cell_type": "code",
   "execution_count": 3,
   "id": "18aff3c8",
   "metadata": {},
   "outputs": [
    {
     "name": "stdout",
     "output_type": "stream",
     "text": [
      "========================================\n",
      "total training arc images: 478\n",
      "total training ctj images: 226\n",
      "total training lky images: 456\n",
      "----------------------------------------\n",
      "total validation arc images: 102\n",
      "total validation ctj images: 49\n",
      "total validation lky images: 89\n",
      "----------------------------------------\n",
      "total test arc images: 102\n",
      "total test ctj images: 49\n",
      "total test lky images: 98\n",
      "========================================\n"
     ]
    }
   ],
   "source": [
    "# 检查每个分组包含多少图像\n",
    "print('========================================')\n",
    "print('total training arc images:', len(os.listdir(train_arc_dir)))\n",
    "print('total training ctj images:', len(os.listdir(train_ctj_dir)))\n",
    "print('total training lky images:', len(os.listdir(train_lky_dir)))\n",
    "print('----------------------------------------')\n",
    "print('total validation arc images:', len(os.listdir(validation_arc_dir)))\n",
    "print('total validation ctj images:', len(os.listdir(validation_ctj_dir)))\n",
    "print('total validation lky images:', len(os.listdir(validation_lky_dir)))\n",
    "print('----------------------------------------')\n",
    "print('total test arc images:', len(os.listdir(test_arc_dir)))\n",
    "print('total test ctj images:', len(os.listdir(test_ctj_dir)))\n",
    "print('total test lky images:', len(os.listdir(test_lky_dir)))\n",
    "print('========================================')"
   ]
  },
  {
   "cell_type": "code",
   "execution_count": 5,
   "id": "db0c1b57",
   "metadata": {},
   "outputs": [
    {
     "name": "stdout",
     "output_type": "stream",
     "text": [
      "Model: \"sequential_1\"\n",
      "_________________________________________________________________\n",
      " Layer (type)                Output Shape              Param #   \n",
      "=================================================================\n",
      " conv2d_4 (Conv2D)           (None, 55, 248, 32)       896       \n",
      "                                                                 \n",
      " max_pooling2d_3 (MaxPooling  (None, 27, 124, 32)      0         \n",
      " 2D)                                                             \n",
      "                                                                 \n",
      " conv2d_5 (Conv2D)           (None, 25, 122, 64)       18496     \n",
      "                                                                 \n",
      " max_pooling2d_4 (MaxPooling  (None, 12, 61, 64)       0         \n",
      " 2D)                                                             \n",
      "                                                                 \n",
      " conv2d_6 (Conv2D)           (None, 10, 59, 128)       73856     \n",
      "                                                                 \n",
      " max_pooling2d_5 (MaxPooling  (None, 5, 29, 128)       0         \n",
      " 2D)                                                             \n",
      "                                                                 \n",
      " conv2d_7 (Conv2D)           (None, 3, 27, 128)        147584    \n",
      "                                                                 \n",
      " flatten_1 (Flatten)         (None, 10368)             0         \n",
      "                                                                 \n",
      " dropout_1 (Dropout)         (None, 10368)             0         \n",
      "                                                                 \n",
      " dense_2 (Dense)             (None, 256)               2654464   \n",
      "                                                                 \n",
      " dense_3 (Dense)             (None, 3)                 771       \n",
      "                                                                 \n",
      "=================================================================\n",
      "Total params: 2,896,067\n",
      "Trainable params: 2,896,067\n",
      "Non-trainable params: 0\n",
      "_________________________________________________________________\n"
     ]
    }
   ],
   "source": [
    "from keras import layers\n",
    "from keras import models\n",
    "\n",
    "model = models.Sequential()\n",
    "model.add(layers.Conv2D(32, (3, 3), activation='relu', input_shape=(57, 250, 3)))\n",
    "model.add(layers.MaxPooling2D((2, 2)))\n",
    "model.add(layers.Conv2D(64, (3, 3), activation='relu'))\n",
    "model.add(layers.MaxPooling2D((2, 2)))\n",
    "model.add(layers.Conv2D(128, (3, 3), activation='relu'))\n",
    "model.add(layers.MaxPooling2D((2, 2)))\n",
    "model.add(layers.Conv2D(128, (3, 3), activation='relu'))\n",
    "model.add(layers.Flatten())\n",
    "model.add(layers.Dropout(0.5))\n",
    "model.add(layers.Dense(256, activation='relu'))\n",
    "model.add(layers.Dense(3, activation='softmax'))\n",
    "\n",
    "model.summary()"
   ]
  },
  {
   "cell_type": "code",
   "execution_count": 7,
   "id": "843ef946",
   "metadata": {},
   "outputs": [],
   "source": [
    "from keras import optimizers\n",
    "\n",
    "# 编译\n",
    "model.compile(optimizer = optimizers.RMSprop(lr=1e-4),\n",
    "               loss = 'categorical_crossentropy',\n",
    "               metrics=['accuracy'])"
   ]
  },
  {
   "cell_type": "code",
   "execution_count": 8,
   "id": "70b687d7",
   "metadata": {},
   "outputs": [
    {
     "name": "stdout",
     "output_type": "stream",
     "text": [
      "Found 1160 images belonging to 3 classes.\n",
      "Found 240 images belonging to 3 classes.\n"
     ]
    }
   ],
   "source": [
    "from keras.preprocessing.image import ImageDataGenerator\n",
    "\n",
    "# 对训练数据进行数据增强，并乘以1/255缩放\n",
    "train_datagen = ImageDataGenerator(rescale=1./255,\n",
    "                                  #rotation_range=40,\n",
    "                                  #width_shift_range=0.2,\n",
    "                                  #height_shift_range=0.2,)\n",
    "                                  #shear_range=0.2,\n",
    "                                  #zoom_range=0.2,\n",
    "                                  horizontal_flip=True,)\n",
    "\n",
    "# 不能增强验证数据，只乘以1/255缩放\n",
    "test_datagen = ImageDataGenerator(rescale=1./255)\n",
    "\n",
    "# 训练集生成器\n",
    "train_generator = train_datagen.flow_from_directory(\n",
    "        train_dir,                  # 目标目录\n",
    "        target_size=(57,250),       # 调整图像大小\n",
    "        batch_size=20,\n",
    "        class_mode='categorical')\n",
    "\n",
    "# 验证集生成器\n",
    "validation_generator = test_datagen.flow_from_directory(\n",
    "        validation_dir,\n",
    "        target_size=(57,250),\n",
    "        batch_size=20,\n",
    "        class_mode='categorical')"
   ]
  },
  {
   "cell_type": "code",
   "execution_count": 9,
   "id": "3ba9fee2",
   "metadata": {},
   "outputs": [
    {
     "name": "stdout",
     "output_type": "stream",
     "text": [
      "Epoch 1/20\n"
     ]
    },
    {
     "name": "stderr",
     "output_type": "stream",
     "text": [
      "/tmp/ipykernel_17518/1056940645.py:2: UserWarning: `Model.fit_generator` is deprecated and will be removed in a future version. Please use `Model.fit`, which supports generators.\n",
      "  history = model.fit_generator(\n"
     ]
    },
    {
     "name": "stdout",
     "output_type": "stream",
     "text": [
      "58/58 [==============================] - 4s 62ms/step - loss: 0.9885 - accuracy: 0.5569 - val_loss: 0.9052 - val_accuracy: 0.5437\n",
      "Epoch 2/20\n",
      "58/58 [==============================] - 3s 59ms/step - loss: 0.6739 - accuracy: 0.7517 - val_loss: 0.4717 - val_accuracy: 0.7625\n",
      "Epoch 3/20\n",
      "58/58 [==============================] - 3s 59ms/step - loss: 0.5349 - accuracy: 0.7759 - val_loss: 0.3779 - val_accuracy: 0.8562\n",
      "Epoch 4/20\n",
      "58/58 [==============================] - 3s 59ms/step - loss: 0.4713 - accuracy: 0.7957 - val_loss: 0.2809 - val_accuracy: 0.9062\n",
      "Epoch 5/20\n",
      "58/58 [==============================] - 3s 58ms/step - loss: 0.4190 - accuracy: 0.8241 - val_loss: 0.3295 - val_accuracy: 0.8500\n",
      "Epoch 6/20\n",
      "58/58 [==============================] - 3s 58ms/step - loss: 0.3756 - accuracy: 0.8448 - val_loss: 0.3023 - val_accuracy: 0.8687\n",
      "Epoch 7/20\n",
      "58/58 [==============================] - 3s 59ms/step - loss: 0.3559 - accuracy: 0.8603 - val_loss: 0.2201 - val_accuracy: 0.9250\n",
      "Epoch 8/20\n",
      "58/58 [==============================] - 3s 58ms/step - loss: 0.3297 - accuracy: 0.8655 - val_loss: 0.3256 - val_accuracy: 0.8500\n",
      "Epoch 9/20\n",
      "58/58 [==============================] - 3s 59ms/step - loss: 0.3095 - accuracy: 0.8724 - val_loss: 0.2324 - val_accuracy: 0.8875\n",
      "Epoch 10/20\n",
      "58/58 [==============================] - 3s 58ms/step - loss: 0.2850 - accuracy: 0.8802 - val_loss: 0.2789 - val_accuracy: 0.8750\n",
      "Epoch 11/20\n",
      "58/58 [==============================] - 3s 59ms/step - loss: 0.2793 - accuracy: 0.8853 - val_loss: 0.1485 - val_accuracy: 0.9563\n",
      "Epoch 12/20\n",
      "58/58 [==============================] - 3s 59ms/step - loss: 0.2429 - accuracy: 0.9043 - val_loss: 0.1807 - val_accuracy: 0.9187\n",
      "Epoch 13/20\n",
      "58/58 [==============================] - 3s 59ms/step - loss: 0.2434 - accuracy: 0.9026 - val_loss: 0.1371 - val_accuracy: 0.9500\n",
      "Epoch 14/20\n",
      "58/58 [==============================] - 3s 58ms/step - loss: 0.2296 - accuracy: 0.9095 - val_loss: 0.3371 - val_accuracy: 0.8375\n",
      "Epoch 15/20\n",
      "58/58 [==============================] - 3s 59ms/step - loss: 0.2084 - accuracy: 0.9155 - val_loss: 0.4190 - val_accuracy: 0.8062\n",
      "Epoch 16/20\n",
      "58/58 [==============================] - 3s 58ms/step - loss: 0.2052 - accuracy: 0.9095 - val_loss: 0.0946 - val_accuracy: 0.9688\n",
      "Epoch 17/20\n",
      "58/58 [==============================] - 3s 59ms/step - loss: 0.1885 - accuracy: 0.9345 - val_loss: 0.0902 - val_accuracy: 0.9688\n",
      "Epoch 18/20\n",
      "58/58 [==============================] - 3s 58ms/step - loss: 0.1903 - accuracy: 0.9259 - val_loss: 0.1154 - val_accuracy: 0.9688\n",
      "Epoch 19/20\n",
      "58/58 [==============================] - 3s 59ms/step - loss: 0.1730 - accuracy: 0.9353 - val_loss: 0.1796 - val_accuracy: 0.9250\n",
      "Epoch 20/20\n",
      "58/58 [==============================] - 3s 58ms/step - loss: 0.1579 - accuracy: 0.9379 - val_loss: 0.1495 - val_accuracy: 0.9375\n"
     ]
    }
   ],
   "source": [
    "# 利用批量生成器拟合模型\n",
    "history = model.fit_generator(\n",
    "      train_generator,\n",
    "      steps_per_epoch=58,\n",
    "      epochs=20,\n",
    "      validation_data=validation_generator,\n",
    "      validation_steps=8)"
   ]
  },
  {
   "cell_type": "code",
   "execution_count": 10,
   "id": "a00822b5",
   "metadata": {},
   "outputs": [],
   "source": [
    "# 保存模型\n",
    "model.save('cnn_model_imgs_hori.h5')"
   ]
  },
  {
   "cell_type": "code",
   "execution_count": 11,
   "id": "0c29bbe5",
   "metadata": {},
   "outputs": [
    {
     "data": {
      "image/png": "[encoded data removed]",
      "text/plain": [
       "<Figure size 432x288 with 1 Axes>"
      ]
     },
     "metadata": {
      "needs_background": "light"
     },
     "output_type": "display_data"
    },
    {
     "data": {
      "image/png": "[encoded data removed]",
      "text/plain": [
       "<Figure size 432x288 with 1 Axes>"
      ]
     },
     "metadata": {
      "needs_background": "light"
     },
     "output_type": "display_data"
    }
   ],
   "source": [
    "# 绘制训练过程中的损失曲线和精度曲线\n",
    "\n",
    "import matplotlib.pyplot as plt\n",
    "\n",
    "acc = history.history['accuracy']\n",
    "val_acc = history.history['val_accuracy']\n",
    "loss = history.history['loss']\n",
    "val_loss = history.history['val_loss']\n",
    "\n",
    "epochs = range(1, len(acc) + 1)\n",
    "\n",
    "plt.plot(epochs, acc, 'bo', label='Training acc')\n",
    "plt.plot(epochs, val_acc, 'b', label='Validation acc')\n",
    "plt.title('Training and validation accuracy')\n",
    "plt.legend()\n",
    "\n",
    "plt.figure()\n",
    "\n",
    "plt.plot(epochs, loss, 'bo', label='Training loss')\n",
    "plt.plot(epochs, val_loss, 'b', label='Validation loss')\n",
    "plt.title('Training and validation loss')\n",
    "plt.legend()\n",
    "\n",
    "plt.show()"
   ]
  },
  {
   "cell_type": "code",
   "execution_count": null,
   "id": "0cc555bc",
   "metadata": {},
   "outputs": [],
   "source": []
  }
 ],
 "metadata": {
  "kernelspec": {
   "display_name": "Python 3 (ipykernel)",
   "language": "python",
   "name": "python3"
  },
  "language_info": {
   "codemirror_mode": {
    "name": "ipython",
    "version": 3
   },
   "file_extension": ".py",
   "mimetype": "text/x-python",
   "name": "python",
   "nbconvert_exporter": "python",
   "pygments_lexer": "ipython3",
   "version": "3.9.12"
  }
 },
 "nbformat": 4,
 "nbformat_minor": 5
}
