{
 "cells": [
  {
   "cell_type": "markdown",
   "id": "49ee1004",
   "metadata": {},
   "source": [
    "Read data"
   ]
  },
  {
   "cell_type": "code",
   "execution_count": 1,
   "id": "0fde5bfa",
   "metadata": {},
   "outputs": [],
   "source": [
    "import numpy as np\n",
    "import pandas as pd"
   ]
  },
  {
   "cell_type": "code",
   "execution_count": 2,
   "id": "b243fd35",
   "metadata": {},
   "outputs": [],
   "source": [
    "# 读数据函数\n",
    "# testee为被测试者代号 有arc ctj lky\n",
    "# dType为数据类型 有Mag和Phase\n",
    "\n",
    "def ReadData(testee, dType, fileNum):\n",
    "    dataList = list()\n",
    "    for i in range(0, fileNum):\n",
    "        fileName = 'D' + str(i)\n",
    "        pathName = 'data/' + testee + '/' + dType + '/' + fileName + '.csv'\n",
    "        data = pd.read_csv(pathName, header = None)\n",
    "        dataList.append(data)\n",
    "    #print(len(dataList))\n",
    "    #print(dataList[50])\n",
    "    return dataList"
   ]
  },
  {
   "cell_type": "code",
   "execution_count": 3,
   "id": "70f62dec",
   "metadata": {},
   "outputs": [],
   "source": [
    "arcMag = ReadData('arc', 'Mag', 351)\n",
    "ctjMag = ReadData('ctj', 'Mag', 162)\n",
    "lkyMag = ReadData('lky', 'Mag', 350)"
   ]
  },
  {
   "cell_type": "code",
   "execution_count": 4,
   "id": "0f424886",
   "metadata": {},
   "outputs": [
    {
     "data": {
      "text/html": [
       "<div>\n",
       "<style scoped>\n",
       "    .dataframe tbody tr th:only-of-type {\n",
       "        vertical-align: middle;\n",
       "    }\n",
       "\n",
       "    .dataframe tbody tr th {\n",
       "        vertical-align: top;\n",
       "    }\n",
       "\n",
       "    .dataframe thead th {\n",
       "        text-align: right;\n",
       "    }\n",
       "</style>\n",
       "<table border=\"1\" class=\"dataframe\">\n",
       "  <thead>\n",
       "    <tr style=\"text-align: right;\">\n",
       "      <th></th>\n",
       "      <th>0</th>\n",
       "      <th>1</th>\n",
       "      <th>2</th>\n",
       "      <th>3</th>\n",
       "      <th>4</th>\n",
       "      <th>5</th>\n",
       "      <th>6</th>\n",
       "      <th>7</th>\n",
       "      <th>8</th>\n",
       "      <th>9</th>\n",
       "      <th>10</th>\n",
       "      <th>11</th>\n",
       "      <th>12</th>\n",
       "    </tr>\n",
       "  </thead>\n",
       "  <tbody>\n",
       "    <tr>\n",
       "      <th>0</th>\n",
       "      <td>115.0043</td>\n",
       "      <td>123.4382</td>\n",
       "      <td>115.5206</td>\n",
       "      <td>142.4675</td>\n",
       "      <td>197.4968</td>\n",
       "      <td>112.2185</td>\n",
       "      <td>109.3435</td>\n",
       "      <td>172.1046</td>\n",
       "      <td>105.0048</td>\n",
       "      <td>124.4267</td>\n",
       "      <td>147.5669</td>\n",
       "      <td>128.7245</td>\n",
       "      <td>119.1512</td>\n",
       "    </tr>\n",
       "    <tr>\n",
       "      <th>1</th>\n",
       "      <td>115.1217</td>\n",
       "      <td>121.0785</td>\n",
       "      <td>118.2074</td>\n",
       "      <td>146.6322</td>\n",
       "      <td>199.9225</td>\n",
       "      <td>118.0889</td>\n",
       "      <td>99.0051</td>\n",
       "      <td>165.7468</td>\n",
       "      <td>105.6030</td>\n",
       "      <td>124.8079</td>\n",
       "      <td>150.9603</td>\n",
       "      <td>118.3427</td>\n",
       "      <td>120.9669</td>\n",
       "    </tr>\n",
       "    <tr>\n",
       "      <th>2</th>\n",
       "      <td>118.3427</td>\n",
       "      <td>113.3181</td>\n",
       "      <td>123.7457</td>\n",
       "      <td>148.2228</td>\n",
       "      <td>199.6998</td>\n",
       "      <td>113.0398</td>\n",
       "      <td>99.8248</td>\n",
       "      <td>167.6305</td>\n",
       "      <td>107.4244</td>\n",
       "      <td>129.2478</td>\n",
       "      <td>154.4668</td>\n",
       "      <td>125.4193</td>\n",
       "      <td>123.4058</td>\n",
       "    </tr>\n",
       "    <tr>\n",
       "      <th>3</th>\n",
       "      <td>117.0684</td>\n",
       "      <td>109.5628</td>\n",
       "      <td>117.0043</td>\n",
       "      <td>145.0965</td>\n",
       "      <td>186.9679</td>\n",
       "      <td>110.3449</td>\n",
       "      <td>105.1713</td>\n",
       "      <td>161.1118</td>\n",
       "      <td>108.8118</td>\n",
       "      <td>125.9921</td>\n",
       "      <td>146.0856</td>\n",
       "      <td>123.9677</td>\n",
       "      <td>120.2082</td>\n",
       "    </tr>\n",
       "    <tr>\n",
       "      <th>4</th>\n",
       "      <td>119.0168</td>\n",
       "      <td>120.3079</td>\n",
       "      <td>124.4829</td>\n",
       "      <td>146.6970</td>\n",
       "      <td>187.6086</td>\n",
       "      <td>106.7052</td>\n",
       "      <td>107.8147</td>\n",
       "      <td>157.2005</td>\n",
       "      <td>109.6038</td>\n",
       "      <td>132.3707</td>\n",
       "      <td>153.6001</td>\n",
       "      <td>122.6418</td>\n",
       "      <td>122.2497</td>\n",
       "    </tr>\n",
       "    <tr>\n",
       "      <th>5</th>\n",
       "      <td>124.1934</td>\n",
       "      <td>125.2278</td>\n",
       "      <td>126.3962</td>\n",
       "      <td>147.1394</td>\n",
       "      <td>195.5633</td>\n",
       "      <td>110.1363</td>\n",
       "      <td>111.5437</td>\n",
       "      <td>163.6246</td>\n",
       "      <td>118.2286</td>\n",
       "      <td>136.4588</td>\n",
       "      <td>156.5184</td>\n",
       "      <td>130.6981</td>\n",
       "      <td>128.0156</td>\n",
       "    </tr>\n",
       "    <tr>\n",
       "      <th>6</th>\n",
       "      <td>149.5627</td>\n",
       "      <td>147.1768</td>\n",
       "      <td>153.2221</td>\n",
       "      <td>174.8657</td>\n",
       "      <td>216.0023</td>\n",
       "      <td>123.3694</td>\n",
       "      <td>133.4054</td>\n",
       "      <td>186.4001</td>\n",
       "      <td>136.7808</td>\n",
       "      <td>164.1250</td>\n",
       "      <td>181.1767</td>\n",
       "      <td>151.0132</td>\n",
       "      <td>151.2217</td>\n",
       "    </tr>\n",
       "    <tr>\n",
       "      <th>7</th>\n",
       "      <td>166.3731</td>\n",
       "      <td>165.2453</td>\n",
       "      <td>167.7260</td>\n",
       "      <td>191.2302</td>\n",
       "      <td>232.3812</td>\n",
       "      <td>140.5774</td>\n",
       "      <td>147.4924</td>\n",
       "      <td>204.5189</td>\n",
       "      <td>151.0132</td>\n",
       "      <td>182.5431</td>\n",
       "      <td>197.9520</td>\n",
       "      <td>166.5443</td>\n",
       "      <td>169.3665</td>\n",
       "    </tr>\n",
       "    <tr>\n",
       "      <th>8</th>\n",
       "      <td>173.7700</td>\n",
       "      <td>170.4699</td>\n",
       "      <td>175.0714</td>\n",
       "      <td>196.2371</td>\n",
       "      <td>228.1622</td>\n",
       "      <td>134.3317</td>\n",
       "      <td>154.8709</td>\n",
       "      <td>199.2486</td>\n",
       "      <td>158.7010</td>\n",
       "      <td>190.5886</td>\n",
       "      <td>204.9244</td>\n",
       "      <td>173.8994</td>\n",
       "      <td>174.0029</td>\n",
       "    </tr>\n",
       "    <tr>\n",
       "      <th>9</th>\n",
       "      <td>172.7339</td>\n",
       "      <td>165.6563</td>\n",
       "      <td>174.3474</td>\n",
       "      <td>190.8507</td>\n",
       "      <td>206.2062</td>\n",
       "      <td>122.2620</td>\n",
       "      <td>153.3101</td>\n",
       "      <td>192.6759</td>\n",
       "      <td>155.9295</td>\n",
       "      <td>186.7030</td>\n",
       "      <td>198.4364</td>\n",
       "      <td>170.6283</td>\n",
       "      <td>173.6692</td>\n",
       "    </tr>\n",
       "  </tbody>\n",
       "</table>\n",
       "</div>"
      ],
      "text/plain": [
       "         0         1         2         3         4         5         6   \\\n",
       "0  115.0043  123.4382  115.5206  142.4675  197.4968  112.2185  109.3435   \n",
       "1  115.1217  121.0785  118.2074  146.6322  199.9225  118.0889   99.0051   \n",
       "2  118.3427  113.3181  123.7457  148.2228  199.6998  113.0398   99.8248   \n",
       "3  117.0684  109.5628  117.0043  145.0965  186.9679  110.3449  105.1713   \n",
       "4  119.0168  120.3079  124.4829  146.6970  187.6086  106.7052  107.8147   \n",
       "5  124.1934  125.2278  126.3962  147.1394  195.5633  110.1363  111.5437   \n",
       "6  149.5627  147.1768  153.2221  174.8657  216.0023  123.3694  133.4054   \n",
       "7  166.3731  165.2453  167.7260  191.2302  232.3812  140.5774  147.4924   \n",
       "8  173.7700  170.4699  175.0714  196.2371  228.1622  134.3317  154.8709   \n",
       "9  172.7339  165.6563  174.3474  190.8507  206.2062  122.2620  153.3101   \n",
       "\n",
       "         7         8         9         10        11        12  \n",
       "0  172.1046  105.0048  124.4267  147.5669  128.7245  119.1512  \n",
       "1  165.7468  105.6030  124.8079  150.9603  118.3427  120.9669  \n",
       "2  167.6305  107.4244  129.2478  154.4668  125.4193  123.4058  \n",
       "3  161.1118  108.8118  125.9921  146.0856  123.9677  120.2082  \n",
       "4  157.2005  109.6038  132.3707  153.6001  122.6418  122.2497  \n",
       "5  163.6246  118.2286  136.4588  156.5184  130.6981  128.0156  \n",
       "6  186.4001  136.7808  164.1250  181.1767  151.0132  151.2217  \n",
       "7  204.5189  151.0132  182.5431  197.9520  166.5443  169.3665  \n",
       "8  199.2486  158.7010  190.5886  204.9244  173.8994  174.0029  \n",
       "9  192.6759  155.9295  186.7030  198.4364  170.6283  173.6692  "
      ]
     },
     "execution_count": 4,
     "metadata": {},
     "output_type": "execute_result"
    }
   ],
   "source": [
    "pd.DataFrame(np.array(arcMag[0])[:10,:13])"
   ]
  },
  {
   "cell_type": "markdown",
   "id": "0c0c99c0",
   "metadata": {},
   "source": [
    "Data pre-processing"
   ]
  },
  {
   "cell_type": "code",
   "execution_count": 5,
   "id": "daf4bb6c",
   "metadata": {},
   "outputs": [],
   "source": [
    "# 求最小列数的函数\n",
    "def minLine(dataName):\n",
    "    l = len(dataName)\n",
    "    #print(l)\n",
    "    minl = dataName[0].shape[1]\n",
    "    for i in range(1, l):\n",
    "        l2 = dataName[i].shape[1]\n",
    "        if l2 < minl:\n",
    "            minl = l2\n",
    "    return minl"
   ]
  },
  {
   "cell_type": "code",
   "execution_count": 6,
   "id": "9fd5a7c1",
   "metadata": {},
   "outputs": [
    {
     "name": "stdout",
     "output_type": "stream",
     "text": [
      "The minimum number of the columns is: 440\n",
      "The minimum number of the columns is: 515\n",
      "The minimum number of the columns is: 487\n"
     ]
    }
   ],
   "source": [
    "arcMinLine = minLine(arcMag)\n",
    "print('The minimum number of the columns is: ' + str(arcMinLine))\n",
    "ctjMinLine = minLine(ctjMag)\n",
    "print('The minimum number of the columns is: ' + str(ctjMinLine))\n",
    "lkyMinLine = minLine(lkyMag)\n",
    "print('The minimum number of the columns is: ' + str(lkyMinLine))"
   ]
  },
  {
   "cell_type": "code",
   "execution_count": 7,
   "id": "97f990dd",
   "metadata": {},
   "outputs": [],
   "source": [
    "import matplotlib.pyplot as plt"
   ]
  },
  {
   "cell_type": "code",
   "execution_count": 8,
   "id": "25836a67",
   "metadata": {},
   "outputs": [],
   "source": [
    "# 绘图前的分类准备函数\n",
    "# 将数据按照列数多少分成五类\n",
    "# 分别是 <450 450～475 475～500 500～525 525～550\n",
    "\n",
    "def graphPlotPre(dataName):\n",
    "    l = len(dataName)\n",
    "    sum450 = 0\n",
    "    sum475 = 0\n",
    "    sum500 = 0\n",
    "    sum525 = 0\n",
    "    sum550 = 0\n",
    "    for i in range(0, l):\n",
    "        rowL = dataName[i].shape[1]\n",
    "        if rowL <= 450:\n",
    "            sum450 += 1\n",
    "        elif rowL <= 475:\n",
    "            sum475 += 1\n",
    "        elif rowL <= 500:\n",
    "            sum500 += 1\n",
    "        elif rowL <= 520:\n",
    "            sum525 += 1\n",
    "        else:\n",
    "            sum550 += 1\n",
    "    sumRow = [sum450, sum475, sum500, sum525, sum550]\n",
    "    return sumRow"
   ]
  },
  {
   "cell_type": "code",
   "execution_count": 9,
   "id": "5638f0f3",
   "metadata": {},
   "outputs": [
    {
     "name": "stdout",
     "output_type": "stream",
     "text": [
      "[1, 3, 7, 59, 281]\n",
      "[0, 0, 0, 4, 158]\n",
      "[0, 0, 28, 172, 150]\n"
     ]
    }
   ],
   "source": [
    "arcRow = graphPlotPre(arcMag)\n",
    "print(arcRow)\n",
    "ctjRow = graphPlotPre(ctjMag)\n",
    "print(ctjRow)\n",
    "lkyRow = graphPlotPre(lkyMag)\n",
    "print(lkyRow)"
   ]
  },
  {
   "cell_type": "code",
   "execution_count": 10,
   "id": "02ee933a",
   "metadata": {
    "scrolled": true
   },
   "outputs": [
    {
     "data": {
      "image/png": "[encoded data removed]",
      "text/plain": [
       "<Figure size 1080x1080 with 3 Axes>"
      ]
     },
     "metadata": {},
     "output_type": "display_data"
    }
   ],
   "source": [
    "# 绘制饼图\n",
    "plt.figure(figsize = (15, 15))\n",
    "\n",
    "plt.subplot(1, 3, 1)\n",
    "plt.pie(arcRow, labels = ['<450', '450~475', '475~500', '500~525', '525~550'])\n",
    "plt.title(\"arcMag\")\n",
    "\n",
    "plt.subplot(1, 3, 2)\n",
    "plt.pie(ctjRow, labels = ['<450', '450~475', '475~500', '500~525', '525~550'])\n",
    "plt.title(\"ctjMag\")\n",
    "\n",
    "plt.subplot(1, 3, 3)\n",
    "plt.pie(lkyRow, labels = ['<450', '450~475', '475~500', '500~525', '525~550'])\n",
    "plt.title(\"lkyMag\")\n",
    "\n",
    "#plt.suptitle(\"Pie Chart by Column Number\", fontsize = 12)\n",
    "plt.show()"
   ]
  },
  {
   "cell_type": "code",
   "execution_count": 11,
   "id": "a34904a4",
   "metadata": {},
   "outputs": [],
   "source": [
    "# 先删除不足500列的数据\n",
    "# 再把剩余数据中多余的部分截去\n",
    "\n",
    "dataMag = list()\n",
    "\n",
    "def dataMagPre(dataName):\n",
    "    l = len(dataName)\n",
    "    for i in range(0, l):\n",
    "        rowL = dataName[i].shape[1]\n",
    "        if rowL < 500:\n",
    "            continue\n",
    "        else:\n",
    "            temp = np.array(dataName[i])[:,:500]\n",
    "            dataMag.append(temp)\n",
    "    "
   ]
  },
  {
   "cell_type": "code",
   "execution_count": 12,
   "id": "3d8f291e",
   "metadata": {},
   "outputs": [
    {
     "name": "stdout",
     "output_type": "stream",
     "text": [
      "Number of class arc :  341\n",
      "Number of class arc + ctj :  503\n",
      "Number of class arc + ctj + lky :  831\n"
     ]
    }
   ],
   "source": [
    "dataMagPre(arcMag)\n",
    "print('Number of class arc : ', len(dataMag))\n",
    "dataMagPre(ctjMag)\n",
    "print('Number of class arc + ctj : ', len(dataMag))\n",
    "dataMagPre(lkyMag)\n",
    "print('Number of class arc + ctj + lky : ', len(dataMag))"
   ]
  },
  {
   "cell_type": "code",
   "execution_count": 13,
   "id": "3b78528d",
   "metadata": {},
   "outputs": [
    {
     "data": {
      "text/html": [
       "<div>\n",
       "<style scoped>\n",
       "    .dataframe tbody tr th:only-of-type {\n",
       "        vertical-align: middle;\n",
       "    }\n",
       "\n",
       "    .dataframe tbody tr th {\n",
       "        vertical-align: top;\n",
       "    }\n",
       "\n",
       "    .dataframe thead th {\n",
       "        text-align: right;\n",
       "    }\n",
       "</style>\n",
       "<table border=\"1\" class=\"dataframe\">\n",
       "  <thead>\n",
       "    <tr style=\"text-align: right;\">\n",
       "      <th></th>\n",
       "      <th>0</th>\n",
       "      <th>1</th>\n",
       "      <th>2</th>\n",
       "      <th>3</th>\n",
       "      <th>4</th>\n",
       "      <th>5</th>\n",
       "      <th>6</th>\n",
       "      <th>7</th>\n",
       "      <th>8</th>\n",
       "      <th>9</th>\n",
       "      <th>10</th>\n",
       "      <th>11</th>\n",
       "      <th>12</th>\n",
       "    </tr>\n",
       "  </thead>\n",
       "  <tbody>\n",
       "    <tr>\n",
       "      <th>0</th>\n",
       "      <td>115.0043</td>\n",
       "      <td>123.4382</td>\n",
       "      <td>115.5206</td>\n",
       "      <td>142.4675</td>\n",
       "      <td>197.4968</td>\n",
       "      <td>112.2185</td>\n",
       "      <td>109.3435</td>\n",
       "      <td>172.1046</td>\n",
       "      <td>105.0048</td>\n",
       "      <td>124.4267</td>\n",
       "      <td>147.5669</td>\n",
       "      <td>128.7245</td>\n",
       "      <td>119.1512</td>\n",
       "    </tr>\n",
       "    <tr>\n",
       "      <th>1</th>\n",
       "      <td>115.1217</td>\n",
       "      <td>121.0785</td>\n",
       "      <td>118.2074</td>\n",
       "      <td>146.6322</td>\n",
       "      <td>199.9225</td>\n",
       "      <td>118.0889</td>\n",
       "      <td>99.0051</td>\n",
       "      <td>165.7468</td>\n",
       "      <td>105.6030</td>\n",
       "      <td>124.8079</td>\n",
       "      <td>150.9603</td>\n",
       "      <td>118.3427</td>\n",
       "      <td>120.9669</td>\n",
       "    </tr>\n",
       "    <tr>\n",
       "      <th>2</th>\n",
       "      <td>118.3427</td>\n",
       "      <td>113.3181</td>\n",
       "      <td>123.7457</td>\n",
       "      <td>148.2228</td>\n",
       "      <td>199.6998</td>\n",
       "      <td>113.0398</td>\n",
       "      <td>99.8248</td>\n",
       "      <td>167.6305</td>\n",
       "      <td>107.4244</td>\n",
       "      <td>129.2478</td>\n",
       "      <td>154.4668</td>\n",
       "      <td>125.4193</td>\n",
       "      <td>123.4058</td>\n",
       "    </tr>\n",
       "    <tr>\n",
       "      <th>3</th>\n",
       "      <td>117.0684</td>\n",
       "      <td>109.5628</td>\n",
       "      <td>117.0043</td>\n",
       "      <td>145.0965</td>\n",
       "      <td>186.9679</td>\n",
       "      <td>110.3449</td>\n",
       "      <td>105.1713</td>\n",
       "      <td>161.1118</td>\n",
       "      <td>108.8118</td>\n",
       "      <td>125.9921</td>\n",
       "      <td>146.0856</td>\n",
       "      <td>123.9677</td>\n",
       "      <td>120.2082</td>\n",
       "    </tr>\n",
       "    <tr>\n",
       "      <th>4</th>\n",
       "      <td>119.0168</td>\n",
       "      <td>120.3079</td>\n",
       "      <td>124.4829</td>\n",
       "      <td>146.6970</td>\n",
       "      <td>187.6086</td>\n",
       "      <td>106.7052</td>\n",
       "      <td>107.8147</td>\n",
       "      <td>157.2005</td>\n",
       "      <td>109.6038</td>\n",
       "      <td>132.3707</td>\n",
       "      <td>153.6001</td>\n",
       "      <td>122.6418</td>\n",
       "      <td>122.2497</td>\n",
       "    </tr>\n",
       "    <tr>\n",
       "      <th>5</th>\n",
       "      <td>124.1934</td>\n",
       "      <td>125.2278</td>\n",
       "      <td>126.3962</td>\n",
       "      <td>147.1394</td>\n",
       "      <td>195.5633</td>\n",
       "      <td>110.1363</td>\n",
       "      <td>111.5437</td>\n",
       "      <td>163.6246</td>\n",
       "      <td>118.2286</td>\n",
       "      <td>136.4588</td>\n",
       "      <td>156.5184</td>\n",
       "      <td>130.6981</td>\n",
       "      <td>128.0156</td>\n",
       "    </tr>\n",
       "    <tr>\n",
       "      <th>6</th>\n",
       "      <td>149.5627</td>\n",
       "      <td>147.1768</td>\n",
       "      <td>153.2221</td>\n",
       "      <td>174.8657</td>\n",
       "      <td>216.0023</td>\n",
       "      <td>123.3694</td>\n",
       "      <td>133.4054</td>\n",
       "      <td>186.4001</td>\n",
       "      <td>136.7808</td>\n",
       "      <td>164.1250</td>\n",
       "      <td>181.1767</td>\n",
       "      <td>151.0132</td>\n",
       "      <td>151.2217</td>\n",
       "    </tr>\n",
       "    <tr>\n",
       "      <th>7</th>\n",
       "      <td>166.3731</td>\n",
       "      <td>165.2453</td>\n",
       "      <td>167.7260</td>\n",
       "      <td>191.2302</td>\n",
       "      <td>232.3812</td>\n",
       "      <td>140.5774</td>\n",
       "      <td>147.4924</td>\n",
       "      <td>204.5189</td>\n",
       "      <td>151.0132</td>\n",
       "      <td>182.5431</td>\n",
       "      <td>197.9520</td>\n",
       "      <td>166.5443</td>\n",
       "      <td>169.3665</td>\n",
       "    </tr>\n",
       "    <tr>\n",
       "      <th>8</th>\n",
       "      <td>173.7700</td>\n",
       "      <td>170.4699</td>\n",
       "      <td>175.0714</td>\n",
       "      <td>196.2371</td>\n",
       "      <td>228.1622</td>\n",
       "      <td>134.3317</td>\n",
       "      <td>154.8709</td>\n",
       "      <td>199.2486</td>\n",
       "      <td>158.7010</td>\n",
       "      <td>190.5886</td>\n",
       "      <td>204.9244</td>\n",
       "      <td>173.8994</td>\n",
       "      <td>174.0029</td>\n",
       "    </tr>\n",
       "    <tr>\n",
       "      <th>9</th>\n",
       "      <td>172.7339</td>\n",
       "      <td>165.6563</td>\n",
       "      <td>174.3474</td>\n",
       "      <td>190.8507</td>\n",
       "      <td>206.2062</td>\n",
       "      <td>122.2620</td>\n",
       "      <td>153.3101</td>\n",
       "      <td>192.6759</td>\n",
       "      <td>155.9295</td>\n",
       "      <td>186.7030</td>\n",
       "      <td>198.4364</td>\n",
       "      <td>170.6283</td>\n",
       "      <td>173.6692</td>\n",
       "    </tr>\n",
       "  </tbody>\n",
       "</table>\n",
       "</div>"
      ],
      "text/plain": [
       "         0         1         2         3         4         5         6   \\\n",
       "0  115.0043  123.4382  115.5206  142.4675  197.4968  112.2185  109.3435   \n",
       "1  115.1217  121.0785  118.2074  146.6322  199.9225  118.0889   99.0051   \n",
       "2  118.3427  113.3181  123.7457  148.2228  199.6998  113.0398   99.8248   \n",
       "3  117.0684  109.5628  117.0043  145.0965  186.9679  110.3449  105.1713   \n",
       "4  119.0168  120.3079  124.4829  146.6970  187.6086  106.7052  107.8147   \n",
       "5  124.1934  125.2278  126.3962  147.1394  195.5633  110.1363  111.5437   \n",
       "6  149.5627  147.1768  153.2221  174.8657  216.0023  123.3694  133.4054   \n",
       "7  166.3731  165.2453  167.7260  191.2302  232.3812  140.5774  147.4924   \n",
       "8  173.7700  170.4699  175.0714  196.2371  228.1622  134.3317  154.8709   \n",
       "9  172.7339  165.6563  174.3474  190.8507  206.2062  122.2620  153.3101   \n",
       "\n",
       "         7         8         9         10        11        12  \n",
       "0  172.1046  105.0048  124.4267  147.5669  128.7245  119.1512  \n",
       "1  165.7468  105.6030  124.8079  150.9603  118.3427  120.9669  \n",
       "2  167.6305  107.4244  129.2478  154.4668  125.4193  123.4058  \n",
       "3  161.1118  108.8118  125.9921  146.0856  123.9677  120.2082  \n",
       "4  157.2005  109.6038  132.3707  153.6001  122.6418  122.2497  \n",
       "5  163.6246  118.2286  136.4588  156.5184  130.6981  128.0156  \n",
       "6  186.4001  136.7808  164.1250  181.1767  151.0132  151.2217  \n",
       "7  204.5189  151.0132  182.5431  197.9520  166.5443  169.3665  \n",
       "8  199.2486  158.7010  190.5886  204.9244  173.8994  174.0029  \n",
       "9  192.6759  155.9295  186.7030  198.4364  170.6283  173.6692  "
      ]
     },
     "execution_count": 13,
     "metadata": {},
     "output_type": "execute_result"
    }
   ],
   "source": [
    "pd.DataFrame(dataMag[0][:10,:13])"
   ]
  },
  {
   "cell_type": "code",
   "execution_count": 14,
   "id": "5c31bda3",
   "metadata": {},
   "outputs": [
    {
     "name": "stdout",
     "output_type": "stream",
     "text": [
      "Data shape: (831, 57, 500)\n"
     ]
    }
   ],
   "source": [
    "dataMagArray = np.array(dataMag)\n",
    "print('Data shape:', dataMagArray.shape)"
   ]
  },
  {
   "cell_type": "code",
   "execution_count": 15,
   "id": "9be67d67",
   "metadata": {},
   "outputs": [
    {
     "name": "stdout",
     "output_type": "stream",
     "text": [
      "Label shape: (831, 1)\n",
      "[0.] [1.] [2.]\n"
     ]
    }
   ],
   "source": [
    "#添加类别标签\n",
    "tmp1 = np.zeros((341,1))\n",
    "tmp2 = np.zeros((162,1)) + 1\n",
    "tmp3 = np.zeros((328,1)) + 2\n",
    "\n",
    "labelsArray = np.append(tmp1, (np.append(tmp2, tmp3, axis = 0)), axis = 0)\n",
    "print('Label shape:', labelsArray.shape) \n",
    "print(labelsArray[0], labelsArray[341], labelsArray[-1])"
   ]
  },
  {
   "cell_type": "code",
   "execution_count": 16,
   "id": "06dd9229",
   "metadata": {},
   "outputs": [
    {
     "data": {
      "text/plain": [
       "115.0043"
      ]
     },
     "execution_count": 16,
     "metadata": {},
     "output_type": "execute_result"
    }
   ],
   "source": [
    "dataMagArray[0, 0, 0]"
   ]
  },
  {
   "cell_type": "code",
   "execution_count": 17,
   "id": "35f8ca70",
   "metadata": {},
   "outputs": [
    {
     "name": "stdout",
     "output_type": "stream",
     "text": [
      "115.0043\n",
      "min: 0.0 ; max: 581.0034\n"
     ]
    }
   ],
   "source": [
    "# 寻找最大最小值\n",
    "# 也可以理解成寻找异常值\n",
    "\n",
    "mi = ma = dataMagArray[0, 0, 0]\n",
    "print(ma)\n",
    "\n",
    "for i in range(0, 831):\n",
    "    for j in range(0, 57):\n",
    "        for k in range(0, 500):\n",
    "            if dataMagArray[i, j, k] < mi:\n",
    "                mi = dataMagArray[i, j, k]\n",
    "            if dataMagArray[i, j, k] > ma:\n",
    "                ma = dataMagArray[i, j, k]\n",
    "\n",
    "print('min:', mi, '; max:', ma)"
   ]
  },
  {
   "cell_type": "code",
   "execution_count": 18,
   "id": "91efd1b6",
   "metadata": {},
   "outputs": [
    {
     "name": "stdout",
     "output_type": "stream",
     "text": [
      "Number of pages with values greater than 500: 2\n",
      "Number of pages with values greater than 400: 10\n",
      "Number of pages with values greater than 356: 28\n",
      "Number of pages with values greater than 256: 729\n"
     ]
    }
   ],
   "source": [
    "# 处理异常值\n",
    "\n",
    "bi500 = bi400 = bi356 = bi256 = 0\n",
    "for i in range(0, 831):\n",
    "    ma = mi = dataMagArray[i, 0, 0]\n",
    "    for j in range(0, 57):\n",
    "        for k in range(0, 500):\n",
    "            if dataMagArray[i, j, k] > ma:\n",
    "                ma = dataMagArray[i, j, k]\n",
    "    if ma >= 500:\n",
    "        bi500 += 1\n",
    "    elif ma >= 400:\n",
    "        bi400 += 1\n",
    "    elif ma >= 356:\n",
    "        bi356 += 1\n",
    "    elif ma >= 256:\n",
    "        bi256 += 1\n",
    "\n",
    "print('Number of pages with values greater than 500:', bi500)\n",
    "print('Number of pages with values greater than 400:', bi400)\n",
    "print('Number of pages with values greater than 356:', bi356)\n",
    "print('Number of pages with values greater than 256:', bi256)\n"
   ]
  },
  {
   "cell_type": "code",
   "execution_count": 19,
   "id": "0b36b8e4",
   "metadata": {},
   "outputs": [
    {
     "data": {
      "image/png": "[encoded data removed]",
      "text/plain": [
       "<Figure size 432x432 with 1 Axes>"
      ]
     },
     "metadata": {},
     "output_type": "display_data"
    }
   ],
   "source": [
    "# 绘制饼图\n",
    "plt.figure(figsize = (6, 6))\n",
    "\n",
    "bi = [bi500, bi400, bi356, bi256]\n",
    "plt.pie(bi, labels = ['>500', '400~500', '356~400', '256~356'])\n",
    "plt.title(\"Pages\")\n",
    "\n",
    "plt.show()"
   ]
  },
  {
   "cell_type": "code",
   "execution_count": 20,
   "id": "49f73fde",
   "metadata": {},
   "outputs": [
    {
     "name": "stdout",
     "output_type": "stream",
     "text": [
      "Number of single data greater than 356: 109\n"
     ]
    }
   ],
   "source": [
    "NumSD = 0\n",
    "for i in range(0, 831):\n",
    "    for j in range(0, 57):\n",
    "        for k in range(0, 500):\n",
    "            if dataMagArray[i, j, k] > 356:\n",
    "                NumSD += 1\n",
    "print('Number of single data greater than 356:', NumSD)"
   ]
  },
  {
   "cell_type": "code",
   "execution_count": 21,
   "id": "bdb99b5f",
   "metadata": {},
   "outputs": [
    {
     "name": "stdout",
     "output_type": "stream",
     "text": [
      "115.0043\n",
      "min: 0.0 ; max: 356.0\n"
     ]
    }
   ],
   "source": [
    "for i in range(0, 831):\n",
    "    for j in range(0, 57):\n",
    "        for k in range(0, 500):\n",
    "            if dataMagArray[i, j, k] > 356:\n",
    "                dataMagArray[i, j, k] = 356\n",
    "\n",
    "mi = ma = dataMagArray[0, 0, 0]\n",
    "print(ma)\n",
    "\n",
    "for i in range(0, 831):\n",
    "    for j in range(0, 57):\n",
    "        for k in range(0, 500):\n",
    "            if dataMagArray[i, j, k] < mi:\n",
    "                mi = dataMagArray[i, j, k]\n",
    "            if dataMagArray[i, j, k] > ma:\n",
    "                ma = dataMagArray[i, j, k]\n",
    "\n",
    "print('min:', mi, '; max:', ma)"
   ]
  },
  {
   "cell_type": "code",
   "execution_count": 22,
   "id": "fafa13a6",
   "metadata": {},
   "outputs": [
    {
     "data": {
      "text/html": [
       "<div>\n",
       "<style scoped>\n",
       "    .dataframe tbody tr th:only-of-type {\n",
       "        vertical-align: middle;\n",
       "    }\n",
       "\n",
       "    .dataframe tbody tr th {\n",
       "        vertical-align: top;\n",
       "    }\n",
       "\n",
       "    .dataframe thead th {\n",
       "        text-align: right;\n",
       "    }\n",
       "</style>\n",
       "<table border=\"1\" class=\"dataframe\">\n",
       "  <thead>\n",
       "    <tr style=\"text-align: right;\">\n",
       "      <th></th>\n",
       "      <th>0</th>\n",
       "      <th>1</th>\n",
       "      <th>2</th>\n",
       "      <th>3</th>\n",
       "      <th>4</th>\n",
       "      <th>5</th>\n",
       "      <th>6</th>\n",
       "      <th>7</th>\n",
       "      <th>8</th>\n",
       "      <th>9</th>\n",
       "      <th>10</th>\n",
       "      <th>11</th>\n",
       "      <th>12</th>\n",
       "    </tr>\n",
       "  </thead>\n",
       "  <tbody>\n",
       "    <tr>\n",
       "      <th>0</th>\n",
       "      <td>115.0043</td>\n",
       "      <td>123.4382</td>\n",
       "      <td>115.5206</td>\n",
       "      <td>142.4675</td>\n",
       "      <td>197.4968</td>\n",
       "      <td>112.2185</td>\n",
       "      <td>109.3435</td>\n",
       "      <td>172.1046</td>\n",
       "      <td>105.0048</td>\n",
       "      <td>124.4267</td>\n",
       "      <td>147.5669</td>\n",
       "      <td>128.7245</td>\n",
       "      <td>119.1512</td>\n",
       "    </tr>\n",
       "    <tr>\n",
       "      <th>1</th>\n",
       "      <td>115.1217</td>\n",
       "      <td>121.0785</td>\n",
       "      <td>118.2074</td>\n",
       "      <td>146.6322</td>\n",
       "      <td>199.9225</td>\n",
       "      <td>118.0889</td>\n",
       "      <td>99.0051</td>\n",
       "      <td>165.7468</td>\n",
       "      <td>105.6030</td>\n",
       "      <td>124.8079</td>\n",
       "      <td>150.9603</td>\n",
       "      <td>118.3427</td>\n",
       "      <td>120.9669</td>\n",
       "    </tr>\n",
       "    <tr>\n",
       "      <th>2</th>\n",
       "      <td>118.3427</td>\n",
       "      <td>113.3181</td>\n",
       "      <td>123.7457</td>\n",
       "      <td>148.2228</td>\n",
       "      <td>199.6998</td>\n",
       "      <td>113.0398</td>\n",
       "      <td>99.8248</td>\n",
       "      <td>167.6305</td>\n",
       "      <td>107.4244</td>\n",
       "      <td>129.2478</td>\n",
       "      <td>154.4668</td>\n",
       "      <td>125.4193</td>\n",
       "      <td>123.4058</td>\n",
       "    </tr>\n",
       "    <tr>\n",
       "      <th>3</th>\n",
       "      <td>117.0684</td>\n",
       "      <td>109.5628</td>\n",
       "      <td>117.0043</td>\n",
       "      <td>145.0965</td>\n",
       "      <td>186.9679</td>\n",
       "      <td>110.3449</td>\n",
       "      <td>105.1713</td>\n",
       "      <td>161.1118</td>\n",
       "      <td>108.8118</td>\n",
       "      <td>125.9921</td>\n",
       "      <td>146.0856</td>\n",
       "      <td>123.9677</td>\n",
       "      <td>120.2082</td>\n",
       "    </tr>\n",
       "    <tr>\n",
       "      <th>4</th>\n",
       "      <td>119.0168</td>\n",
       "      <td>120.3079</td>\n",
       "      <td>124.4829</td>\n",
       "      <td>146.6970</td>\n",
       "      <td>187.6086</td>\n",
       "      <td>106.7052</td>\n",
       "      <td>107.8147</td>\n",
       "      <td>157.2005</td>\n",
       "      <td>109.6038</td>\n",
       "      <td>132.3707</td>\n",
       "      <td>153.6001</td>\n",
       "      <td>122.6418</td>\n",
       "      <td>122.2497</td>\n",
       "    </tr>\n",
       "    <tr>\n",
       "      <th>5</th>\n",
       "      <td>124.1934</td>\n",
       "      <td>125.2278</td>\n",
       "      <td>126.3962</td>\n",
       "      <td>147.1394</td>\n",
       "      <td>195.5633</td>\n",
       "      <td>110.1363</td>\n",
       "      <td>111.5437</td>\n",
       "      <td>163.6246</td>\n",
       "      <td>118.2286</td>\n",
       "      <td>136.4588</td>\n",
       "      <td>156.5184</td>\n",
       "      <td>130.6981</td>\n",
       "      <td>128.0156</td>\n",
       "    </tr>\n",
       "    <tr>\n",
       "      <th>6</th>\n",
       "      <td>149.5627</td>\n",
       "      <td>147.1768</td>\n",
       "      <td>153.2221</td>\n",
       "      <td>174.8657</td>\n",
       "      <td>216.0023</td>\n",
       "      <td>123.3694</td>\n",
       "      <td>133.4054</td>\n",
       "      <td>186.4001</td>\n",
       "      <td>136.7808</td>\n",
       "      <td>164.1250</td>\n",
       "      <td>181.1767</td>\n",
       "      <td>151.0132</td>\n",
       "      <td>151.2217</td>\n",
       "    </tr>\n",
       "    <tr>\n",
       "      <th>7</th>\n",
       "      <td>166.3731</td>\n",
       "      <td>165.2453</td>\n",
       "      <td>167.7260</td>\n",
       "      <td>191.2302</td>\n",
       "      <td>232.3812</td>\n",
       "      <td>140.5774</td>\n",
       "      <td>147.4924</td>\n",
       "      <td>204.5189</td>\n",
       "      <td>151.0132</td>\n",
       "      <td>182.5431</td>\n",
       "      <td>197.9520</td>\n",
       "      <td>166.5443</td>\n",
       "      <td>169.3665</td>\n",
       "    </tr>\n",
       "    <tr>\n",
       "      <th>8</th>\n",
       "      <td>173.7700</td>\n",
       "      <td>170.4699</td>\n",
       "      <td>175.0714</td>\n",
       "      <td>196.2371</td>\n",
       "      <td>228.1622</td>\n",
       "      <td>134.3317</td>\n",
       "      <td>154.8709</td>\n",
       "      <td>199.2486</td>\n",
       "      <td>158.7010</td>\n",
       "      <td>190.5886</td>\n",
       "      <td>204.9244</td>\n",
       "      <td>173.8994</td>\n",
       "      <td>174.0029</td>\n",
       "    </tr>\n",
       "    <tr>\n",
       "      <th>9</th>\n",
       "      <td>172.7339</td>\n",
       "      <td>165.6563</td>\n",
       "      <td>174.3474</td>\n",
       "      <td>190.8507</td>\n",
       "      <td>206.2062</td>\n",
       "      <td>122.2620</td>\n",
       "      <td>153.3101</td>\n",
       "      <td>192.6759</td>\n",
       "      <td>155.9295</td>\n",
       "      <td>186.7030</td>\n",
       "      <td>198.4364</td>\n",
       "      <td>170.6283</td>\n",
       "      <td>173.6692</td>\n",
       "    </tr>\n",
       "  </tbody>\n",
       "</table>\n",
       "</div>"
      ],
      "text/plain": [
       "         0         1         2         3         4         5         6   \\\n",
       "0  115.0043  123.4382  115.5206  142.4675  197.4968  112.2185  109.3435   \n",
       "1  115.1217  121.0785  118.2074  146.6322  199.9225  118.0889   99.0051   \n",
       "2  118.3427  113.3181  123.7457  148.2228  199.6998  113.0398   99.8248   \n",
       "3  117.0684  109.5628  117.0043  145.0965  186.9679  110.3449  105.1713   \n",
       "4  119.0168  120.3079  124.4829  146.6970  187.6086  106.7052  107.8147   \n",
       "5  124.1934  125.2278  126.3962  147.1394  195.5633  110.1363  111.5437   \n",
       "6  149.5627  147.1768  153.2221  174.8657  216.0023  123.3694  133.4054   \n",
       "7  166.3731  165.2453  167.7260  191.2302  232.3812  140.5774  147.4924   \n",
       "8  173.7700  170.4699  175.0714  196.2371  228.1622  134.3317  154.8709   \n",
       "9  172.7339  165.6563  174.3474  190.8507  206.2062  122.2620  153.3101   \n",
       "\n",
       "         7         8         9         10        11        12  \n",
       "0  172.1046  105.0048  124.4267  147.5669  128.7245  119.1512  \n",
       "1  165.7468  105.6030  124.8079  150.9603  118.3427  120.9669  \n",
       "2  167.6305  107.4244  129.2478  154.4668  125.4193  123.4058  \n",
       "3  161.1118  108.8118  125.9921  146.0856  123.9677  120.2082  \n",
       "4  157.2005  109.6038  132.3707  153.6001  122.6418  122.2497  \n",
       "5  163.6246  118.2286  136.4588  156.5184  130.6981  128.0156  \n",
       "6  186.4001  136.7808  164.1250  181.1767  151.0132  151.2217  \n",
       "7  204.5189  151.0132  182.5431  197.9520  166.5443  169.3665  \n",
       "8  199.2486  158.7010  190.5886  204.9244  173.8994  174.0029  \n",
       "9  192.6759  155.9295  186.7030  198.4364  170.6283  173.6692  "
      ]
     },
     "execution_count": 22,
     "metadata": {},
     "output_type": "execute_result"
    }
   ],
   "source": [
    "pd.DataFrame(dataMag[0][:10,:13])"
   ]
  },
  {
   "cell_type": "code",
   "execution_count": 23,
   "id": "045ba72c",
   "metadata": {},
   "outputs": [
    {
     "name": "stdout",
     "output_type": "stream",
     "text": [
      "Data shape: (831, 57, 500)\n",
      "Label shape: (831, 1)\n"
     ]
    }
   ],
   "source": [
    "print('Data shape:', dataMagArray.shape)\n",
    "print('Label shape:', labelsArray.shape) "
   ]
  },
  {
   "cell_type": "markdown",
   "id": "e0f0cb7a",
   "metadata": {},
   "source": [
    "BP"
   ]
  },
  {
   "cell_type": "code",
   "execution_count": 24,
   "id": "754ac92d",
   "metadata": {},
   "outputs": [
    {
     "name": "stdout",
     "output_type": "stream",
     "text": [
      "724 + 107 = 831\n"
     ]
    }
   ],
   "source": [
    "# 先简单构建一个全连接神经网络\n",
    "\n",
    "# 分离训练集与测试集\n",
    "# 85%左右的数据用于训练\n",
    "tmpTrain1 = list(dataMagArray[0:290,:,:])\n",
    "tmpTrain2 = list(dataMagArray[341:478,:,:])\n",
    "tmpTrain3 = list(dataMagArray[503:800,:,:])\n",
    "tmpTest1 = list(dataMagArray[290:341,:,:])\n",
    "tmpTest2 = list(dataMagArray[478:503,:,:])\n",
    "tmpTest3 = list(dataMagArray[800:831,:,:])\n",
    "\n",
    "trainMagBP = tmpTrain1\n",
    "trainMagBP.extend(tmpTrain2)\n",
    "trainMagBP.extend(tmpTrain3)\n",
    "testMagBP = tmpTest1\n",
    "testMagBP.extend(tmpTest2)\n",
    "testMagBP.extend(tmpTest3)\n",
    "\n",
    "print(len(trainMagBP), '+', len(testMagBP), '= 831')"
   ]
  },
  {
   "cell_type": "code",
   "execution_count": 25,
   "id": "c00feb47",
   "metadata": {},
   "outputs": [
    {
     "name": "stdout",
     "output_type": "stream",
     "text": [
      "724 + 107 = 831\n"
     ]
    }
   ],
   "source": [
    "# 给标签分组\n",
    "tmpTrain1 = list(labelsArray[0:290])\n",
    "tmpTrain2 = list(labelsArray[341:478])\n",
    "tmpTrain3 = list(labelsArray[503:800])\n",
    "tmpTest1 = list(labelsArray[290:341])\n",
    "tmpTest2 = list(labelsArray[478:503])\n",
    "tmpTest3 = list(labelsArray[800:831])\n",
    "\n",
    "trainLableBP = tmpTrain1\n",
    "trainLableBP.extend(tmpTrain2)\n",
    "trainLableBP.extend(tmpTrain3)\n",
    "testLableBP = tmpTest1\n",
    "testLableBP.extend(tmpTest2)\n",
    "testLableBP.extend(tmpTest3)\n",
    "print(len(trainLableBP), '+', len(testLableBP), '= 831')"
   ]
  },
  {
   "cell_type": "code",
   "execution_count": 26,
   "id": "cdc28458",
   "metadata": {},
   "outputs": [
    {
     "name": "stdout",
     "output_type": "stream",
     "text": [
      "Training set data shape: (724, 57, 500)\n",
      "Training set lable length: 724\n"
     ]
    }
   ],
   "source": [
    "trainMagBP = np.array(trainMagBP)\n",
    "testMagBP = np.array(testMagBP)\n",
    "trainLableBP = np.array(trainLableBP)\n",
    "testLableBP = np.array(testLableBP)\n",
    "\n",
    "print('Training set data shape:', trainMagBP.shape)\n",
    "print('Training set lable length:', len(trainLableBP))"
   ]
  },
  {
   "cell_type": "code",
   "execution_count": 29,
   "id": "b5723574",
   "metadata": {},
   "outputs": [],
   "source": [
    "from keras import models\n",
    "from keras import layers\n",
    "\n",
    "network = models.Sequential()\n",
    "network.add(layers.Dense(512, activation='relu', input_shape=(57*500,)))\n",
    "network.add(layers.Dense(3, activation='softmax'))"
   ]
  },
  {
   "cell_type": "code",
   "execution_count": 30,
   "id": "1459930b",
   "metadata": {},
   "outputs": [],
   "source": [
    "network.compile(optimizer = 'rmsprop',\n",
    "               loss = 'categorical_crossentropy',\n",
    "               metrics=['accuracy'])"
   ]
  },
  {
   "cell_type": "code",
   "execution_count": 31,
   "id": "76899996",
   "metadata": {},
   "outputs": [],
   "source": [
    "trainMagBP = trainMagBP.reshape((724, 57*500))\n",
    "trainMagBP = trainMagBP.astype('float32') / 356\n",
    "\n",
    "testMagBP = testMagBP.reshape((107, 57*500))\n",
    "testMagBP = testMagBP.astype('float32') / 356"
   ]
  },
  {
   "cell_type": "code",
   "execution_count": 33,
   "id": "07273cc3",
   "metadata": {},
   "outputs": [],
   "source": [
    "from keras.utils import to_categorical\n",
    "\n",
    "trainLableBP = to_categorical(trainLableBP)\n",
    "testLableBP = to_categorical(testLableBP)"
   ]
  },
  {
   "cell_type": "code",
   "execution_count": 34,
   "id": "6332694f",
   "metadata": {
    "scrolled": true
   },
   "outputs": [
    {
     "name": "stdout",
     "output_type": "stream",
     "text": [
      "Epoch 1/5\n",
      "6/6 [==============================] - 1s 68ms/step - loss: 62.9291 - accuracy: 0.3964\n",
      "Epoch 2/5\n",
      "6/6 [==============================] - 0s 67ms/step - loss: 30.6587 - accuracy: 0.3633\n",
      "Epoch 3/5\n",
      "6/6 [==============================] - 0s 66ms/step - loss: 20.7438 - accuracy: 0.3633\n",
      "Epoch 4/5\n",
      "6/6 [==============================] - 0s 67ms/step - loss: 16.9076 - accuracy: 0.4392\n",
      "Epoch 5/5\n",
      "6/6 [==============================] - 0s 67ms/step - loss: 17.1930 - accuracy: 0.3439\n"
     ]
    },
    {
     "data": {
      "text/plain": [
       "<keras.callbacks.History at 0x7f21ebae6580>"
      ]
     },
     "execution_count": 34,
     "metadata": {},
     "output_type": "execute_result"
    }
   ],
   "source": [
    "network.fit(trainMagBP, trainLableBP, epochs=5, batch_size=128)"
   ]
  },
  {
   "cell_type": "code",
   "execution_count": 35,
   "id": "1d6d265c",
   "metadata": {},
   "outputs": [
    {
     "name": "stdout",
     "output_type": "stream",
     "text": [
      "4/4 [==============================] - 0s 6ms/step - loss: 37.4739 - accuracy: 0.2897\n",
      "Test Accuracy: 0.2897196114063263\n"
     ]
    }
   ],
   "source": [
    "test_loss, test_acc = network.evaluate(testMagBP, testLableBP)\n",
    "print('Test Accuracy:', test_acc)"
   ]
  },
  {
   "cell_type": "code",
   "execution_count": null,
   "id": "a2908fa3",
   "metadata": {},
   "outputs": [],
   "source": []
  }
 ],
 "metadata": {
  "kernelspec": {
   "display_name": "Python 3 (ipykernel)",
   "language": "python",
   "name": "python3"
  },
  "language_info": {
   "codemirror_mode": {
    "name": "ipython",
    "version": 3
   },
   "file_extension": ".py",
   "mimetype": "text/x-python",
   "name": "python",
   "nbconvert_exporter": "python",
   "pygments_lexer": "ipython3",
   "version": "3.9.12"
  }
 },
 "nbformat": 4,
 "nbformat_minor": 5
}
