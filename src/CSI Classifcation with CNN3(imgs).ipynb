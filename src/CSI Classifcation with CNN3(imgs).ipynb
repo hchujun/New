{
 "cells": [
  {
   "cell_type": "code",
   "execution_count": 1,
   "id": "4449d3fb",
   "metadata": {},
   "outputs": [],
   "source": [
    "import os, shutil"
   ]
  },
  {
   "cell_type": "code",
   "execution_count": 2,
   "id": "4f1f5f95",
   "metadata": {},
   "outputs": [],
   "source": [
    "base_dir = 'imgs'\n",
    "\n",
    "# 分别对应训练、验证和测试目录\n",
    "train_dir = os.path.join(base_dir, 'train')\n",
    "validation_dir = os.path.join(base_dir, 'valid')\n",
    "test_dir = os.path.join(base_dir, 'test')"
   ]
  },
  {
   "cell_type": "code",
   "execution_count": 3,
   "id": "a3a5c783",
   "metadata": {},
   "outputs": [],
   "source": [
    "train_arc_dir = os.path.join(train_dir, 'arc')\n",
    "train_ctj_dir = os.path.join(train_dir, 'ctj')\n",
    "train_lky_dir = os.path.join(train_dir, 'lky')\n",
    "\n",
    "validation_arc_dir = os.path.join(validation_dir, 'arc')\n",
    "validation_ctj_dir = os.path.join(validation_dir, 'ctj')\n",
    "validation_lky_dir = os.path.join(validation_dir, 'lky')\n",
    "\n",
    "test_arc_dir = os.path.join(test_dir, 'arc')\n",
    "test_ctj_dir = os.path.join(test_dir, 'ctj')\n",
    "test_lky_dir = os.path.join(test_dir, 'lky')"
   ]
  },
  {
   "cell_type": "code",
   "execution_count": 4,
   "id": "ffdec651",
   "metadata": {},
   "outputs": [
    {
     "name": "stdout",
     "output_type": "stream",
     "text": [
      "Image array shape: (57, 250, 3)\n"
     ]
    }
   ],
   "source": [
    "# 检查每个图像数组的形状\n",
    "\n",
    "import PIL.Image as Image\n",
    "import numpy as np\n",
    "import pandas as pd\n",
    "import matplotlib.pyplot as plt\n",
    "import os\n",
    "from scipy.io import loadmat\n",
    "\n",
    "tmp_path = validation_arc_dir + '/478.jpg'\n",
    "tmp_img = Image.open(tmp_path)\n",
    "#tmp_img.show()\n",
    "tmp_img_array = np.array(tmp_img)\n",
    "print('Image array shape:', tmp_img_array.shape)"
   ]
  },
  {
   "cell_type": "code",
   "execution_count": 5,
   "id": "73dbb389",
   "metadata": {},
   "outputs": [
    {
     "name": "stdout",
     "output_type": "stream",
     "text": [
      "========================================\n",
      "total training arc images: 478\n",
      "total training ctj images: 226\n",
      "total training lky images: 460\n",
      "----------------------------------------\n",
      "total validation arc images: 102\n",
      "total validation ctj images: 49\n",
      "total validation lky images: 98\n",
      "----------------------------------------\n",
      "total test arc images: 102\n",
      "total test ctj images: 49\n",
      "total test lky images: 98\n",
      "========================================\n"
     ]
    }
   ],
   "source": [
    "# 检查每个分组包含多少图像\n",
    "print('========================================')\n",
    "print('total training arc images:', len(os.listdir(train_arc_dir)))\n",
    "print('total training ctj images:', len(os.listdir(train_ctj_dir)))\n",
    "print('total training lky images:', len(os.listdir(train_lky_dir)))\n",
    "print('----------------------------------------')\n",
    "print('total validation arc images:', len(os.listdir(validation_arc_dir)))\n",
    "print('total validation ctj images:', len(os.listdir(validation_ctj_dir)))\n",
    "print('total validation lky images:', len(os.listdir(validation_lky_dir)))\n",
    "print('----------------------------------------')\n",
    "print('total test arc images:', len(os.listdir(test_arc_dir)))\n",
    "print('total test ctj images:', len(os.listdir(test_ctj_dir)))\n",
    "print('total test lky images:', len(os.listdir(test_lky_dir)))\n",
    "print('========================================')"
   ]
  },
  {
   "cell_type": "markdown",
   "id": "1d41b15b",
   "metadata": {},
   "source": [
    "CNN"
   ]
  },
  {
   "cell_type": "code",
   "execution_count": 7,
   "id": "19e7f1ec",
   "metadata": {},
   "outputs": [
    {
     "name": "stdout",
     "output_type": "stream",
     "text": [
      "Model: \"sequential_1\"\n",
      "_________________________________________________________________\n",
      " Layer (type)                Output Shape              Param #   \n",
      "=================================================================\n",
      " conv2d_4 (Conv2D)           (None, 55, 248, 32)       896       \n",
      "                                                                 \n",
      " max_pooling2d_3 (MaxPooling  (None, 27, 124, 32)      0         \n",
      " 2D)                                                             \n",
      "                                                                 \n",
      " conv2d_5 (Conv2D)           (None, 25, 122, 64)       18496     \n",
      "                                                                 \n",
      " max_pooling2d_4 (MaxPooling  (None, 12, 61, 64)       0         \n",
      " 2D)                                                             \n",
      "                                                                 \n",
      " conv2d_6 (Conv2D)           (None, 10, 59, 128)       73856     \n",
      "                                                                 \n",
      " max_pooling2d_5 (MaxPooling  (None, 5, 29, 128)       0         \n",
      " 2D)                                                             \n",
      "                                                                 \n",
      " conv2d_7 (Conv2D)           (None, 3, 27, 128)        147584    \n",
      "                                                                 \n",
      " flatten_1 (Flatten)         (None, 10368)             0         \n",
      "                                                                 \n",
      " dropout_1 (Dropout)         (None, 10368)             0         \n",
      "                                                                 \n",
      " dense_2 (Dense)             (None, 512)               5308928   \n",
      "                                                                 \n",
      " dense_3 (Dense)             (None, 3)                 1539      \n",
      "                                                                 \n",
      "=================================================================\n",
      "Total params: 5,551,299\n",
      "Trainable params: 5,551,299\n",
      "Non-trainable params: 0\n",
      "_________________________________________________________________\n"
     ]
    }
   ],
   "source": [
    "from keras import layers\n",
    "from keras import models\n",
    "\n",
    "model = models.Sequential()\n",
    "model.add(layers.Conv2D(32, (3, 3), activation='relu', input_shape=(57, 250, 3)))\n",
    "model.add(layers.MaxPooling2D((2, 2)))\n",
    "model.add(layers.Conv2D(64, (3, 3), activation='relu'))\n",
    "model.add(layers.MaxPooling2D((2, 2)))\n",
    "model.add(layers.Conv2D(128, (3, 3), activation='relu'))\n",
    "model.add(layers.MaxPooling2D((2, 2)))\n",
    "model.add(layers.Conv2D(128, (3, 3), activation='relu'))\n",
    "model.add(layers.Flatten())\n",
    "model.add(layers.Dropout(0.5))\n",
    "model.add(layers.Dense(512, activation='relu'))\n",
    "model.add(layers.Dense(3, activation='softmax'))\n",
    "\n",
    "model.summary()"
   ]
  },
  {
   "cell_type": "code",
   "execution_count": 9,
   "id": "fb82ca92",
   "metadata": {},
   "outputs": [],
   "source": [
    "from keras import optimizers\n",
    "\n",
    "model.compile(optimizer = optimizers.RMSprop(lr=1e-4),\n",
    "               loss = 'categorical_crossentropy',\n",
    "               metrics=['accuracy'])"
   ]
  },
  {
   "cell_type": "code",
   "execution_count": 11,
   "id": "973f85d7",
   "metadata": {},
   "outputs": [],
   "source": [
    "from keras.preprocessing.image import ImageDataGenerator"
   ]
  },
  {
   "cell_type": "code",
   "execution_count": 18,
   "id": "5cea6f5c",
   "metadata": {},
   "outputs": [
    {
     "name": "stdout",
     "output_type": "stream",
     "text": [
      "Found 1164 images belonging to 3 classes.\n",
      "Found 249 images belonging to 3 classes.\n"
     ]
    }
   ],
   "source": [
    "# 对训练数据进行数据增强，并乘以1/255缩放\n",
    "train_datagen = ImageDataGenerator(rescale=1./255,\n",
    "                                  rotation_range=40,\n",
    "                                  width_shift_range=0.2,\n",
    "                                  height_shift_range=0.2,\n",
    "                                  shear_range=0.2,\n",
    "                                  zoom_range=0.2,\n",
    "                                  horizontal_flip=True,)\n",
    "\n",
    "# 不能增强验证数据，只乘以1/255缩放\n",
    "test_datagen = ImageDataGenerator(rescale=1./255)\n",
    "\n",
    "# 训练集生成器\n",
    "train_generator = train_datagen.flow_from_directory(\n",
    "        train_dir,                  # 目标目录\n",
    "        target_size=(57,250),       # 调整图像大小\n",
    "        batch_size=1164,\n",
    "        class_mode='categorical')\n",
    "\n",
    "# 验证集生成器\n",
    "validation_generator = test_datagen.flow_from_directory(\n",
    "        validation_dir,\n",
    "        target_size=(57,250),\n",
    "        batch_size=249,\n",
    "        class_mode='categorical')"
   ]
  },
  {
   "cell_type": "code",
   "execution_count": 19,
   "id": "57798551",
   "metadata": {},
   "outputs": [
    {
     "name": "stderr",
     "output_type": "stream",
     "text": [
      "/tmp/ipykernel_7548/945770194.py:2: UserWarning: `Model.fit_generator` is deprecated and will be removed in a future version. Please use `Model.fit`, which supports generators.\n",
      "  history = model.fit_generator(\n"
     ]
    },
    {
     "name": "stdout",
     "output_type": "stream",
     "text": [
      "Epoch 1/30\n",
      "1/1 [==============================] - 5s 5s/step - loss: 0.9578 - accuracy: 0.5739 - val_loss: 1.0408 - val_accuracy: 0.4699\n",
      "Epoch 2/30\n",
      "1/1 [==============================] - 5s 5s/step - loss: 0.9143 - accuracy: 0.5988 - val_loss: 1.0421 - val_accuracy: 0.4659\n",
      "Epoch 3/30\n",
      "1/1 [==============================] - 5s 5s/step - loss: 0.9160 - accuracy: 0.6143 - val_loss: 1.0384 - val_accuracy: 0.4739\n",
      "Epoch 4/30\n",
      "1/1 [==============================] - 5s 5s/step - loss: 0.9161 - accuracy: 0.5971 - val_loss: 1.0470 - val_accuracy: 0.4699\n",
      "Epoch 5/30\n",
      "1/1 [==============================] - 6s 6s/step - loss: 0.9064 - accuracy: 0.6220 - val_loss: 1.0531 - val_accuracy: 0.4699\n",
      "Epoch 6/30\n",
      "1/1 [==============================] - 6s 6s/step - loss: 0.9164 - accuracy: 0.6057 - val_loss: 1.0469 - val_accuracy: 0.4739\n",
      "Epoch 7/30\n",
      "1/1 [==============================] - 5s 5s/step - loss: 0.9002 - accuracy: 0.6031 - val_loss: 1.0620 - val_accuracy: 0.4779\n",
      "Epoch 8/30\n",
      "1/1 [==============================] - 5s 5s/step - loss: 0.9021 - accuracy: 0.5876 - val_loss: 1.0455 - val_accuracy: 0.4940\n",
      "Epoch 9/30\n",
      "1/1 [==============================] - 5s 5s/step - loss: 0.9074 - accuracy: 0.5851 - val_loss: 1.0879 - val_accuracy: 0.4699\n",
      "Epoch 10/30\n",
      "1/1 [==============================] - 5s 5s/step - loss: 0.9198 - accuracy: 0.5962 - val_loss: 1.0295 - val_accuracy: 0.5181\n",
      "Epoch 11/30\n",
      "1/1 [==============================] - 5s 5s/step - loss: 0.9063 - accuracy: 0.5902 - val_loss: 1.1048 - val_accuracy: 0.4498\n",
      "Epoch 12/30\n",
      "1/1 [==============================] - 5s 5s/step - loss: 0.9092 - accuracy: 0.6143 - val_loss: 1.0222 - val_accuracy: 0.5341\n",
      "Epoch 13/30\n",
      "1/1 [==============================] - 5s 5s/step - loss: 0.9372 - accuracy: 0.5739 - val_loss: 1.1793 - val_accuracy: 0.4378\n",
      "Epoch 14/30\n",
      "1/1 [==============================] - 5s 5s/step - loss: 0.9518 - accuracy: 0.5730 - val_loss: 1.0232 - val_accuracy: 0.5060\n",
      "Epoch 15/30\n",
      "1/1 [==============================] - 5s 5s/step - loss: 0.9659 - accuracy: 0.5430 - val_loss: 1.1394 - val_accuracy: 0.4458\n",
      "Epoch 16/30\n",
      "1/1 [==============================] - 5s 5s/step - loss: 0.9390 - accuracy: 0.5919 - val_loss: 1.0110 - val_accuracy: 0.5341\n",
      "Epoch 17/30\n",
      "1/1 [==============================] - 5s 5s/step - loss: 0.9110 - accuracy: 0.5911 - val_loss: 1.0743 - val_accuracy: 0.4578\n",
      "Epoch 18/30\n",
      "1/1 [==============================] - 5s 5s/step - loss: 0.9183 - accuracy: 0.5971 - val_loss: 1.0258 - val_accuracy: 0.5100\n",
      "Epoch 19/30\n",
      "1/1 [==============================] - 5s 5s/step - loss: 0.9036 - accuracy: 0.5936 - val_loss: 1.0924 - val_accuracy: 0.4498\n",
      "Epoch 20/30\n",
      "1/1 [==============================] - 5s 5s/step - loss: 0.9275 - accuracy: 0.5833 - val_loss: 1.0112 - val_accuracy: 0.5301\n",
      "Epoch 21/30\n",
      "1/1 [==============================] - 5s 5s/step - loss: 0.9107 - accuracy: 0.5859 - val_loss: 1.1297 - val_accuracy: 0.4458\n",
      "Epoch 22/30\n",
      "1/1 [==============================] - 5s 5s/step - loss: 0.9158 - accuracy: 0.5979 - val_loss: 1.0045 - val_accuracy: 0.5221\n",
      "Epoch 23/30\n",
      "1/1 [==============================] - 6s 6s/step - loss: 0.9412 - accuracy: 0.5644 - val_loss: 1.1786 - val_accuracy: 0.4257\n",
      "Epoch 24/30\n",
      "1/1 [==============================] - 5s 5s/step - loss: 0.9572 - accuracy: 0.5739 - val_loss: 0.9960 - val_accuracy: 0.5301\n",
      "Epoch 25/30\n",
      "1/1 [==============================] - 5s 5s/step - loss: 0.9413 - accuracy: 0.5687 - val_loss: 1.1199 - val_accuracy: 0.4458\n",
      "Epoch 26/30\n",
      "1/1 [==============================] - 5s 5s/step - loss: 0.9212 - accuracy: 0.5919 - val_loss: 0.9977 - val_accuracy: 0.5261\n",
      "Epoch 27/30\n",
      "1/1 [==============================] - 5s 5s/step - loss: 0.9197 - accuracy: 0.5765 - val_loss: 1.0700 - val_accuracy: 0.4538\n",
      "Epoch 28/30\n",
      "1/1 [==============================] - 6s 6s/step - loss: 0.9097 - accuracy: 0.5979 - val_loss: 1.0011 - val_accuracy: 0.5221\n",
      "Epoch 29/30\n",
      "1/1 [==============================] - 7s 7s/step - loss: 0.9129 - accuracy: 0.5825 - val_loss: 1.1032 - val_accuracy: 0.4498\n",
      "Epoch 30/30\n",
      "1/1 [==============================] - 5s 5s/step - loss: 0.9118 - accuracy: 0.5979 - val_loss: 0.9924 - val_accuracy: 0.5382\n"
     ]
    }
   ],
   "source": [
    "# 利用批量生成器拟合模型\n",
    "history = model.fit_generator(\n",
    "      train_generator,\n",
    "      steps_per_epoch=1,\n",
    "      epochs=30,\n",
    "      validation_data=validation_generator,\n",
    "      validation_steps=1)"
   ]
  },
  {
   "cell_type": "code",
   "execution_count": 20,
   "id": "9372d582",
   "metadata": {},
   "outputs": [],
   "source": [
    "# 保存模型\n",
    "model.save('csi_cnn_3.h5')"
   ]
  },
  {
   "cell_type": "code",
   "execution_count": 23,
   "id": "8c5c91e2",
   "metadata": {},
   "outputs": [
    {
     "data": {
      "image/png": "[encoded data removed]",
      "text/plain": [
       "<Figure size 432x288 with 1 Axes>"
      ]
     },
     "metadata": {
      "needs_background": "light"
     },
     "output_type": "display_data"
    },
    {
     "data": {
      "image/png": "[encoded data removed]",
      "text/plain": [
       "<Figure size 432x288 with 1 Axes>"
      ]
     },
     "metadata": {
      "needs_background": "light"
     },
     "output_type": "display_data"
    }
   ],
   "source": [
    "# 绘制训练过程中的损失曲线和精度曲线\n",
    "\n",
    "import matplotlib.pyplot as plt\n",
    "\n",
    "acc = history.history['accuracy']\n",
    "val_acc = history.history['val_accuracy']\n",
    "loss = history.history['loss']\n",
    "val_loss = history.history['val_loss']\n",
    "\n",
    "epochs = range(1, len(acc) + 1)\n",
    "\n",
    "plt.plot(epochs, acc, 'bo', label='Training acc')\n",
    "plt.plot(epochs, val_acc, 'b', label='Validation acc')\n",
    "plt.title('Training and validation accuracy')\n",
    "plt.legend()\n",
    "\n",
    "plt.figure()\n",
    "\n",
    "plt.plot(epochs, loss, 'bo', label='Training loss')\n",
    "plt.plot(epochs, val_loss, 'b', label='Validation loss')\n",
    "plt.title('Training and validation loss')\n",
    "plt.legend()\n",
    "\n",
    "plt.show()"
   ]
  },
  {
   "cell_type": "code",
   "execution_count": null,
   "id": "d47fd3e1",
   "metadata": {},
   "outputs": [],
   "source": []
  }
 ],
 "metadata": {
  "kernelspec": {
   "display_name": "Python 3 (ipykernel)",
   "language": "python",
   "name": "python3"
  },
  "language_info": {
   "codemirror_mode": {
    "name": "ipython",
    "version": 3
   },
   "file_extension": ".py",
   "mimetype": "text/x-python",
   "name": "python",
   "nbconvert_exporter": "python",
   "pygments_lexer": "ipython3",
   "version": "3.9.12"
  }
 },
 "nbformat": 4,
 "nbformat_minor": 5
}
