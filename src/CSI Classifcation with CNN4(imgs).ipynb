{
 "cells": [
  {
   "cell_type": "code",
   "execution_count": 1,
   "id": "568fde4e",
   "metadata": {},
   "outputs": [],
   "source": [
    "import os, shutil\n",
    "\n",
    "base_dir = 'imgs'\n",
    "\n",
    "# 分别对应训练、验证和测试目录\n",
    "train_dir = os.path.join(base_dir, 'train')\n",
    "validation_dir = os.path.join(base_dir, 'valid')\n",
    "test_dir = os.path.join(base_dir, 'test')\n",
    "\n",
    "# ===============================================\n",
    "train_arc_dir = os.path.join(train_dir, 'arc')\n",
    "train_ctj_dir = os.path.join(train_dir, 'ctj')\n",
    "train_lky_dir = os.path.join(train_dir, 'lky')\n",
    "\n",
    "validation_arc_dir = os.path.join(validation_dir, 'arc')\n",
    "validation_ctj_dir = os.path.join(validation_dir, 'ctj')\n",
    "validation_lky_dir = os.path.join(validation_dir, 'lky')\n",
    "\n",
    "test_arc_dir = os.path.join(test_dir, 'arc')\n",
    "test_ctj_dir = os.path.join(test_dir, 'ctj')\n",
    "test_lky_dir = os.path.join(test_dir, 'lky')"
   ]
  },
  {
   "cell_type": "code",
   "execution_count": 2,
   "id": "4c6ce15c",
   "metadata": {},
   "outputs": [
    {
     "name": "stdout",
     "output_type": "stream",
     "text": [
      "Image array shape: (57, 250, 3)\n"
     ]
    }
   ],
   "source": [
    "# 检查每个图像数组的形状\n",
    "\n",
    "import PIL.Image as Image\n",
    "import numpy as np\n",
    "import pandas as pd\n",
    "import matplotlib.pyplot as plt\n",
    "import os\n",
    "from scipy.io import loadmat\n",
    "\n",
    "tmp_path = validation_arc_dir + '/478.jpg'\n",
    "tmp_img = Image.open(tmp_path)\n",
    "#tmp_img.show()\n",
    "tmp_img_array = np.array(tmp_img)\n",
    "print('Image array shape:', tmp_img_array.shape)"
   ]
  },
  {
   "cell_type": "code",
   "execution_count": 3,
   "id": "a57e4ecd",
   "metadata": {},
   "outputs": [
    {
     "name": "stdout",
     "output_type": "stream",
     "text": [
      "========================================\n",
      "total training arc images: 478\n",
      "total training ctj images: 226\n",
      "total training lky images: 460\n",
      "----------------------------------------\n",
      "total validation arc images: 102\n",
      "total validation ctj images: 49\n",
      "total validation lky images: 98\n",
      "----------------------------------------\n",
      "total test arc images: 102\n",
      "total test ctj images: 49\n",
      "total test lky images: 98\n",
      "========================================\n"
     ]
    }
   ],
   "source": [
    "# 检查每个分组包含多少图像\n",
    "print('========================================')\n",
    "print('total training arc images:', len(os.listdir(train_arc_dir)))\n",
    "print('total training ctj images:', len(os.listdir(train_ctj_dir)))\n",
    "print('total training lky images:', len(os.listdir(train_lky_dir)))\n",
    "print('----------------------------------------')\n",
    "print('total validation arc images:', len(os.listdir(validation_arc_dir)))\n",
    "print('total validation ctj images:', len(os.listdir(validation_ctj_dir)))\n",
    "print('total validation lky images:', len(os.listdir(validation_lky_dir)))\n",
    "print('----------------------------------------')\n",
    "print('total test arc images:', len(os.listdir(test_arc_dir)))\n",
    "print('total test ctj images:', len(os.listdir(test_ctj_dir)))\n",
    "print('total test lky images:', len(os.listdir(test_lky_dir)))\n",
    "print('========================================')"
   ]
  },
  {
   "cell_type": "code",
   "execution_count": 5,
   "id": "1562c1e2",
   "metadata": {},
   "outputs": [
    {
     "name": "stdout",
     "output_type": "stream",
     "text": [
      "Model: \"sequential_1\"\n",
      "_________________________________________________________________\n",
      " Layer (type)                Output Shape              Param #   \n",
      "=================================================================\n",
      " conv2d_4 (Conv2D)           (None, 55, 248, 32)       896       \n",
      "                                                                 \n",
      " max_pooling2d_3 (MaxPooling  (None, 27, 124, 32)      0         \n",
      " 2D)                                                             \n",
      "                                                                 \n",
      " conv2d_5 (Conv2D)           (None, 25, 122, 64)       18496     \n",
      "                                                                 \n",
      " max_pooling2d_4 (MaxPooling  (None, 12, 61, 64)       0         \n",
      " 2D)                                                             \n",
      "                                                                 \n",
      " conv2d_6 (Conv2D)           (None, 10, 59, 128)       73856     \n",
      "                                                                 \n",
      " max_pooling2d_5 (MaxPooling  (None, 5, 29, 128)       0         \n",
      " 2D)                                                             \n",
      "                                                                 \n",
      " conv2d_7 (Conv2D)           (None, 3, 27, 128)        147584    \n",
      "                                                                 \n",
      " flatten_1 (Flatten)         (None, 10368)             0         \n",
      "                                                                 \n",
      " dropout_1 (Dropout)         (None, 10368)             0         \n",
      "                                                                 \n",
      " dense_2 (Dense)             (None, 512)               5308928   \n",
      "                                                                 \n",
      " dense_3 (Dense)             (None, 3)                 1539      \n",
      "                                                                 \n",
      "=================================================================\n",
      "Total params: 5,551,299\n",
      "Trainable params: 5,551,299\n",
      "Non-trainable params: 0\n",
      "_________________________________________________________________\n"
     ]
    }
   ],
   "source": [
    "from keras import layers\n",
    "from keras import models\n",
    "\n",
    "model = models.Sequential()\n",
    "model.add(layers.Conv2D(32, (3, 3), activation='relu', input_shape=(57, 250, 3)))\n",
    "model.add(layers.MaxPooling2D((2, 2)))\n",
    "model.add(layers.Conv2D(64, (3, 3), activation='relu'))\n",
    "model.add(layers.MaxPooling2D((2, 2)))\n",
    "model.add(layers.Conv2D(128, (3, 3), activation='relu'))\n",
    "model.add(layers.MaxPooling2D((2, 2)))\n",
    "model.add(layers.Conv2D(128, (3, 3), activation='relu'))\n",
    "model.add(layers.Flatten())\n",
    "model.add(layers.Dropout(0.5))\n",
    "model.add(layers.Dense(512, activation='relu'))\n",
    "model.add(layers.Dense(3, activation='softmax'))\n",
    "\n",
    "model.summary()"
   ]
  },
  {
   "cell_type": "code",
   "execution_count": 7,
   "id": "b0927e79",
   "metadata": {},
   "outputs": [],
   "source": [
    "from keras import optimizers\n",
    "\n",
    "model.compile(optimizer = optimizers.RMSprop(lr=1e-4),\n",
    "               loss = 'categorical_crossentropy',\n",
    "               metrics=['accuracy'])"
   ]
  },
  {
   "cell_type": "code",
   "execution_count": 8,
   "id": "f7ddc10f",
   "metadata": {},
   "outputs": [
    {
     "name": "stdout",
     "output_type": "stream",
     "text": [
      "Found 1164 images belonging to 3 classes.\n",
      "Found 249 images belonging to 3 classes.\n"
     ]
    }
   ],
   "source": [
    "from keras.preprocessing.image import ImageDataGenerator\n",
    "\n",
    "# 对数据乘以1/255缩放\n",
    "train_datagen = ImageDataGenerator(rescale=1./255)\n",
    "test_datagen = ImageDataGenerator(rescale=1./255)\n",
    "\n",
    "# 训练集生成器\n",
    "train_generator = train_datagen.flow_from_directory(\n",
    "        train_dir,                  # 目标目录\n",
    "        target_size=(57,250),       # 调整图像大小\n",
    "        batch_size=1164,\n",
    "        class_mode='categorical')\n",
    "\n",
    "# 验证集生成器\n",
    "validation_generator = test_datagen.flow_from_directory(\n",
    "        validation_dir,\n",
    "        target_size=(57,250),\n",
    "        batch_size=249,\n",
    "        class_mode='categorical')"
   ]
  },
  {
   "cell_type": "code",
   "execution_count": 9,
   "id": "b981a024",
   "metadata": {},
   "outputs": [
    {
     "name": "stderr",
     "output_type": "stream",
     "text": [
      "/tmp/ipykernel_10272/235343479.py:2: UserWarning: `Model.fit_generator` is deprecated and will be removed in a future version. Please use `Model.fit`, which supports generators.\n",
      "  history = model.fit_generator(\n"
     ]
    },
    {
     "name": "stdout",
     "output_type": "stream",
     "text": [
      "Epoch 1/20\n",
      "1/1 [==============================] - 4s 4s/step - loss: 1.1194 - accuracy: 0.2199 - val_loss: 1.0373 - val_accuracy: 0.4096\n",
      "Epoch 2/20\n",
      "1/1 [==============================] - 3s 3s/step - loss: 1.0434 - accuracy: 0.4149 - val_loss: 1.0300 - val_accuracy: 0.7068\n",
      "Epoch 3/20\n",
      "1/1 [==============================] - 3s 3s/step - loss: 1.0308 - accuracy: 0.6426 - val_loss: 1.0196 - val_accuracy: 0.4096\n",
      "Epoch 4/20\n",
      "1/1 [==============================] - 3s 3s/step - loss: 1.0188 - accuracy: 0.4107 - val_loss: 1.0743 - val_accuracy: 0.3936\n",
      "Epoch 5/20\n",
      "1/1 [==============================] - 3s 3s/step - loss: 1.0659 - accuracy: 0.3952 - val_loss: 1.0053 - val_accuracy: 0.4096\n",
      "Epoch 6/20\n",
      "1/1 [==============================] - 3s 3s/step - loss: 1.0052 - accuracy: 0.4107 - val_loss: 0.9660 - val_accuracy: 0.7590\n",
      "Epoch 7/20\n",
      "1/1 [==============================] - 3s 3s/step - loss: 0.9703 - accuracy: 0.7285 - val_loss: 0.9331 - val_accuracy: 0.5261\n",
      "Epoch 8/20\n",
      "1/1 [==============================] - 3s 3s/step - loss: 0.9395 - accuracy: 0.5266 - val_loss: 0.9358 - val_accuracy: 0.5703\n",
      "Epoch 9/20\n",
      "1/1 [==============================] - 3s 3s/step - loss: 0.9343 - accuracy: 0.6426 - val_loss: 0.9975 - val_accuracy: 0.4096\n",
      "Epoch 10/20\n",
      "1/1 [==============================] - 3s 3s/step - loss: 0.9977 - accuracy: 0.4107 - val_loss: 0.9910 - val_accuracy: 0.3936\n",
      "Epoch 11/20\n",
      "1/1 [==============================] - 3s 3s/step - loss: 0.9765 - accuracy: 0.4287 - val_loss: 0.8644 - val_accuracy: 0.7671\n",
      "Epoch 12/20\n",
      "1/1 [==============================] - 3s 3s/step - loss: 0.8793 - accuracy: 0.7612 - val_loss: 0.8241 - val_accuracy: 0.7631\n",
      "Epoch 13/20\n",
      "1/1 [==============================] - 3s 3s/step - loss: 0.8374 - accuracy: 0.7749 - val_loss: 0.7875 - val_accuracy: 0.7631\n",
      "Epoch 14/20\n",
      "1/1 [==============================] - 3s 3s/step - loss: 0.8001 - accuracy: 0.7749 - val_loss: 0.7557 - val_accuracy: 0.7711\n",
      "Epoch 15/20\n",
      "1/1 [==============================] - 3s 3s/step - loss: 0.7627 - accuracy: 0.7723 - val_loss: 0.7176 - val_accuracy: 0.7631\n",
      "Epoch 16/20\n",
      "1/1 [==============================] - 3s 3s/step - loss: 0.7301 - accuracy: 0.7766 - val_loss: 0.7327 - val_accuracy: 0.7510\n",
      "Epoch 17/20\n",
      "1/1 [==============================] - 3s 3s/step - loss: 0.7178 - accuracy: 0.7474 - val_loss: 0.8853 - val_accuracy: 0.4659\n",
      "Epoch 18/20\n",
      "1/1 [==============================] - 3s 3s/step - loss: 0.9423 - accuracy: 0.4785 - val_loss: 0.9813 - val_accuracy: 0.4659\n",
      "Epoch 19/20\n",
      "1/1 [==============================] - 3s 3s/step - loss: 0.9206 - accuracy: 0.5232 - val_loss: 0.6747 - val_accuracy: 0.7751\n",
      "Epoch 20/20\n",
      "1/1 [==============================] - 3s 3s/step - loss: 0.7113 - accuracy: 0.7749 - val_loss: 0.6444 - val_accuracy: 0.7791\n"
     ]
    }
   ],
   "source": [
    "# 利用批量生成器拟合模型\n",
    "history = model.fit_generator(\n",
    "      train_generator,\n",
    "      steps_per_epoch=1,\n",
    "      epochs=20,\n",
    "      validation_data=validation_generator,\n",
    "      validation_steps=1)"
   ]
  },
  {
   "cell_type": "code",
   "execution_count": 10,
   "id": "42bc8f81",
   "metadata": {},
   "outputs": [],
   "source": [
    "# 保存模型\n",
    "model.save('csi_cnn_4.h5')"
   ]
  },
  {
   "cell_type": "code",
   "execution_count": 11,
   "id": "3fa44815",
   "metadata": {},
   "outputs": [
    {
     "data": {
      "image/png": "[encoded data removed]",
      "text/plain": [
       "<Figure size 432x288 with 1 Axes>"
      ]
     },
     "metadata": {
      "needs_background": "light"
     },
     "output_type": "display_data"
    },
    {
     "data": {
      "image/png": "[encoded data removed]",
      "text/plain": [
       "<Figure size 432x288 with 1 Axes>"
      ]
     },
     "metadata": {
      "needs_background": "light"
     },
     "output_type": "display_data"
    }
   ],
   "source": [
    "# 绘制训练过程中的损失曲线和精度曲线\n",
    "\n",
    "import matplotlib.pyplot as plt\n",
    "\n",
    "acc = history.history['accuracy']\n",
    "val_acc = history.history['val_accuracy']\n",
    "loss = history.history['loss']\n",
    "val_loss = history.history['val_loss']\n",
    "\n",
    "epochs = range(1, len(acc) + 1)\n",
    "\n",
    "plt.plot(epochs, acc, 'bo', label='Training acc')\n",
    "plt.plot(epochs, val_acc, 'b', label='Validation acc')\n",
    "plt.title('Training and validation accuracy')\n",
    "plt.legend()\n",
    "\n",
    "plt.figure()\n",
    "\n",
    "plt.plot(epochs, loss, 'bo', label='Training loss')\n",
    "plt.plot(epochs, val_loss, 'b', label='Validation loss')\n",
    "plt.title('Training and validation loss')\n",
    "plt.legend()\n",
    "\n",
    "plt.show()"
   ]
  },
  {
   "cell_type": "code",
   "execution_count": null,
   "id": "41c7bc4b",
   "metadata": {},
   "outputs": [],
   "source": []
  }
 ],
 "metadata": {
  "kernelspec": {
   "display_name": "Python 3 (ipykernel)",
   "language": "python",
   "name": "python3"
  },
  "language_info": {
   "codemirror_mode": {
    "name": "ipython",
    "version": 3
   },
   "file_extension": ".py",
   "mimetype": "text/x-python",
   "name": "python",
   "nbconvert_exporter": "python",
   "pygments_lexer": "ipython3",
   "version": "3.9.12"
  }
 },
 "nbformat": 4,
 "nbformat_minor": 5
}
